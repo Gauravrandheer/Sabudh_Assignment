{
 "cells": [
  {
   "cell_type": "markdown",
   "metadata": {},
   "source": [
    "**NumpyExercise**"
   ]
  },
  {
   "cell_type": "code",
   "execution_count": 36,
   "metadata": {},
   "outputs": [
    {
     "data": {
      "text/plain": [
       "1"
      ]
     },
     "execution_count": 36,
     "metadata": {},
     "output_type": "execute_result"
    }
   ],
   "source": [
    "import numpy as np\n",
    "m = np.array([[1,3],[2,3]])\n",
    "m[0][0]\n"
   ]
  },
  {
   "cell_type": "code",
   "execution_count": 37,
   "metadata": {},
   "outputs": [
    {
     "data": {
      "text/plain": [
       "matrix([[1, 3],\n",
       "        [2, 3]])"
      ]
     },
     "execution_count": 37,
     "metadata": {},
     "output_type": "execute_result"
    }
   ],
   "source": [
    "m = np.matrix([[1,3],[2,3]])\n",
    "m"
   ]
  },
  {
   "cell_type": "code",
   "execution_count": 38,
   "metadata": {},
   "outputs": [],
   "source": [
    "m = np.array(m)\n"
   ]
  },
  {
   "cell_type": "code",
   "execution_count": 39,
   "metadata": {},
   "outputs": [
    {
     "data": {
      "text/plain": [
       "array([[1, 3],\n",
       "       [2, 3]])"
      ]
     },
     "execution_count": 39,
     "metadata": {},
     "output_type": "execute_result"
    }
   ],
   "source": [
    "m"
   ]
  },
  {
   "cell_type": "code",
   "execution_count": 40,
   "metadata": {},
   "outputs": [
    {
     "data": {
      "text/plain": [
       "array([[1, 2],\n",
       "       [3, 3]])"
      ]
     },
     "execution_count": 40,
     "metadata": {},
     "output_type": "execute_result"
    }
   ],
   "source": [
    "m.T"
   ]
  },
  {
   "cell_type": "code",
   "execution_count": 43,
   "metadata": {},
   "outputs": [
    {
     "data": {
      "text/plain": [
       "array([0., 0., 0., 0., 0., 0., 0., 0., 0., 0.])"
      ]
     },
     "execution_count": 43,
     "metadata": {},
     "output_type": "execute_result"
    }
   ],
   "source": [
    "z= np.zeros(10)\n",
    "z"
   ]
  },
  {
   "cell_type": "code",
   "execution_count": 44,
   "metadata": {},
   "outputs": [
    {
     "data": {
      "text/plain": [
       "array([[1., 1., 1., 1., 1., 1., 1., 1., 1., 1.],\n",
       "       [1., 1., 1., 1., 1., 1., 1., 1., 1., 1.],\n",
       "       [1., 1., 1., 1., 1., 1., 1., 1., 1., 1.],\n",
       "       [1., 1., 1., 1., 1., 1., 1., 1., 1., 1.],\n",
       "       [1., 1., 1., 1., 1., 1., 1., 1., 1., 1.],\n",
       "       [1., 1., 1., 1., 1., 1., 1., 1., 1., 1.],\n",
       "       [1., 1., 1., 1., 1., 1., 1., 1., 1., 1.],\n",
       "       [1., 1., 1., 1., 1., 1., 1., 1., 1., 1.],\n",
       "       [1., 1., 1., 1., 1., 1., 1., 1., 1., 1.],\n",
       "       [1., 1., 1., 1., 1., 1., 1., 1., 1., 1.]])"
      ]
     },
     "execution_count": 44,
     "metadata": {},
     "output_type": "execute_result"
    }
   ],
   "source": [
    "np.ones((10,10))"
   ]
  },
  {
   "cell_type": "code",
   "execution_count": 45,
   "metadata": {},
   "outputs": [
    {
     "data": {
      "text/plain": [
       "array([[0.45987029, 0.9554706 , 0.15083487, 0.36859958, 0.2904804 ,\n",
       "        0.71501066, 0.29136602, 0.89933433, 0.19075294, 0.66585288],\n",
       "       [0.18455734, 0.11381766, 0.51874746, 0.57060666, 0.48550104,\n",
       "        0.99599869, 0.91290007, 0.8760915 , 0.34952229, 0.1578742 ],\n",
       "       [0.14357271, 0.3278151 , 0.88056693, 0.86172741, 0.91317989,\n",
       "        0.37752806, 0.01329452, 0.22170435, 0.26799424, 0.61931089],\n",
       "       [0.78310966, 0.54600077, 0.63034941, 0.82398153, 0.80371442,\n",
       "        0.40622371, 0.92187281, 0.35732865, 0.89061472, 0.05038911],\n",
       "       [0.61391766, 0.00642333, 0.43487061, 0.21854189, 0.5024366 ,\n",
       "        0.30300066, 0.72646258, 0.50443645, 0.2190174 , 0.12630298],\n",
       "       [0.47767652, 0.58113626, 0.76775546, 0.33847297, 0.97706839,\n",
       "        0.61018172, 0.69393918, 0.06163982, 0.35969623, 0.63057486],\n",
       "       [0.90664582, 0.6903247 , 0.48523381, 0.74176557, 0.10513983,\n",
       "        0.11861921, 0.8746356 , 0.07490345, 0.72596395, 0.12705418],\n",
       "       [0.00588374, 0.07624389, 0.45918381, 0.5714334 , 0.30809764,\n",
       "        0.31233451, 0.7504724 , 0.29184459, 0.95023061, 0.87121785],\n",
       "       [0.74435835, 0.55857026, 0.79227219, 0.03168727, 0.85148486,\n",
       "        0.3864509 , 0.74222273, 0.6953429 , 0.74172635, 0.22849832],\n",
       "       [0.51548575, 0.67757077, 0.26910155, 0.14400315, 0.13573738,\n",
       "        0.53879327, 0.48652972, 0.86904908, 0.75366767, 0.87951332]])"
      ]
     },
     "execution_count": 45,
     "metadata": {},
     "output_type": "execute_result"
    }
   ],
   "source": [
    "import random\n",
    "\n",
    "np.random.random((10,10))"
   ]
  },
  {
   "cell_type": "code",
   "execution_count": 46,
   "metadata": {},
   "outputs": [],
   "source": [
    "#mean =0 and variance 1\n",
    "z = np.random.randn(10,10)"
   ]
  },
  {
   "cell_type": "code",
   "execution_count": 47,
   "metadata": {},
   "outputs": [
    {
     "data": {
      "text/plain": [
       "array([[-0.77304322, -1.25466146,  0.10652094,  0.09017456, -0.29197569,\n",
       "        -0.58064406,  0.81083974,  1.75198844,  0.49622875,  2.04966127],\n",
       "       [-1.52414928,  1.8542111 , -0.78676588, -1.4502405 ,  0.36407509,\n",
       "         0.06731907,  0.89203176,  0.39008997,  0.23867792,  0.44847087],\n",
       "       [ 0.10021603,  0.05424029,  0.86235867, -1.77303071,  1.08649562,\n",
       "         0.81697215,  0.53535682, -0.55578737,  0.92743767,  0.87841074],\n",
       "       [ 1.28878672, -1.01007302,  2.10792317,  0.66159985, -0.13988716,\n",
       "         0.32892941, -0.79242181,  0.71459946, -0.32380617,  1.80682312],\n",
       "       [ 0.32118928, -0.45107243, -0.88193216, -0.0731214 , -1.4106325 ,\n",
       "        -1.45893957, -0.37540727,  1.91789757, -0.06427388,  1.65156275],\n",
       "       [ 0.48884763,  0.91363512,  1.13575116,  0.9046333 ,  1.83449383,\n",
       "        -0.56110522, -0.08545735,  1.11317173, -1.98396449, -0.3225554 ],\n",
       "       [ 0.12379852,  0.85984964,  2.27655571,  1.48550027, -0.86651097,\n",
       "         0.35078424,  0.49646435, -1.29046608, -1.61680962,  0.11018457],\n",
       "       [ 0.96808973,  1.87504807,  0.08766767,  0.18596135,  2.52960698,\n",
       "        -0.55231991, -0.7243579 , -1.24977629, -1.20991446,  0.67805627],\n",
       "       [ 0.7905999 ,  0.83231849, -0.53319576, -0.34330589,  0.17288913,\n",
       "         0.28463668,  0.59116882, -0.88757102, -0.73797704,  0.21256075],\n",
       "       [-0.54766281, -0.65316861,  0.07288914, -2.05897956, -0.12710651,\n",
       "        -0.00762096, -0.98942787,  0.29490293, -0.24820891, -1.96008053]])"
      ]
     },
     "execution_count": 47,
     "metadata": {},
     "output_type": "execute_result"
    }
   ],
   "source": [
    "z"
   ]
  },
  {
   "cell_type": "code",
   "execution_count": 48,
   "metadata": {},
   "outputs": [
    {
     "data": {
      "text/plain": [
       "0.11761746063447549"
      ]
     },
     "execution_count": 48,
     "metadata": {},
     "output_type": "execute_result"
    }
   ],
   "source": [
    "z.mean(\n",
    ")"
   ]
  },
  {
   "cell_type": "code",
   "execution_count": 49,
   "metadata": {},
   "outputs": [
    {
     "data": {
      "text/plain": [
       "1.0559286634122442"
      ]
     },
     "execution_count": 49,
     "metadata": {},
     "output_type": "execute_result"
    }
   ],
   "source": [
    "z.var()"
   ]
  },
  {
   "cell_type": "code",
   "execution_count": 50,
   "metadata": {},
   "outputs": [
    {
     "data": {
      "text/plain": [
       "array([[-3.,  2.],\n",
       "       [ 2., -1.]])"
      ]
     },
     "execution_count": 50,
     "metadata": {},
     "output_type": "execute_result"
    }
   ],
   "source": [
    "a = np.array([[1,2],[2,3]])\n",
    "ain = np.linalg.inv(a)\n",
    "ain"
   ]
  },
  {
   "cell_type": "code",
   "execution_count": 51,
   "metadata": {},
   "outputs": [
    {
     "data": {
      "text/plain": [
       "array([[1., 0.],\n",
       "       [0., 1.]])"
      ]
     },
     "execution_count": 51,
     "metadata": {},
     "output_type": "execute_result"
    }
   ],
   "source": [
    "ain.dot(a)"
   ]
  },
  {
   "cell_type": "code",
   "execution_count": 53,
   "metadata": {},
   "outputs": [
    {
     "data": {
      "text/plain": [
       "-1.0"
      ]
     },
     "execution_count": 53,
     "metadata": {},
     "output_type": "execute_result"
    }
   ],
   "source": [
    "np.linalg.det(a)"
   ]
  },
  {
   "cell_type": "code",
   "execution_count": 57,
   "metadata": {},
   "outputs": [
    {
     "data": {
      "text/plain": [
       "array([1, 3])"
      ]
     },
     "execution_count": 57,
     "metadata": {},
     "output_type": "execute_result"
    }
   ],
   "source": [
    "np.diag(a)"
   ]
  },
  {
   "cell_type": "code",
   "execution_count": 58,
   "metadata": {},
   "outputs": [
    {
     "data": {
      "text/plain": [
       "array([[1, 2],\n",
       "       [2, 3]])"
      ]
     },
     "execution_count": 58,
     "metadata": {},
     "output_type": "execute_result"
    }
   ],
   "source": [
    "a"
   ]
  },
  {
   "cell_type": "code",
   "execution_count": 62,
   "metadata": {},
   "outputs": [],
   "source": [
    "a= np.array([1,2])\n",
    "b = np.array([3,4])\n",
    "z =np.outer(a,b)"
   ]
  },
  {
   "cell_type": "code",
   "execution_count": 63,
   "metadata": {},
   "outputs": [
    {
     "data": {
      "text/plain": [
       "11"
      ]
     },
     "execution_count": 63,
     "metadata": {},
     "output_type": "execute_result"
    }
   ],
   "source": [
    "np.inner(a,b)"
   ]
  },
  {
   "cell_type": "code",
   "execution_count": 65,
   "metadata": {},
   "outputs": [
    {
     "data": {
      "text/plain": [
       "11"
      ]
     },
     "execution_count": 65,
     "metadata": {},
     "output_type": "execute_result"
    }
   ],
   "source": [
    "np.diag(z).sum()"
   ]
  },
  {
   "cell_type": "code",
   "execution_count": 67,
   "metadata": {},
   "outputs": [
    {
     "data": {
      "text/plain": [
       "11"
      ]
     },
     "execution_count": 67,
     "metadata": {},
     "output_type": "execute_result"
    }
   ],
   "source": [
    "np.trace(z)"
   ]
  },
  {
   "cell_type": "code",
   "execution_count": 68,
   "metadata": {},
   "outputs": [
    {
     "data": {
      "text/plain": [
       "array([[0.5, 1. ],\n",
       "       [1. , 2. ]])"
      ]
     },
     "execution_count": 68,
     "metadata": {},
     "output_type": "execute_result"
    }
   ],
   "source": [
    "np.cov(z)"
   ]
  },
  {
   "cell_type": "code",
   "execution_count": 70,
   "metadata": {},
   "outputs": [
    {
     "data": {
      "text/plain": [
       "(2, 2)"
      ]
     },
     "execution_count": 70,
     "metadata": {},
     "output_type": "execute_result"
    }
   ],
   "source": [
    "np.cov(z.T).shape"
   ]
  },
  {
   "cell_type": "code",
   "execution_count": 80,
   "metadata": {},
   "outputs": [
    {
     "data": {
      "text/plain": [
       "array([[1. , 1. ],\n",
       "       [1.5, 4. ]])"
      ]
     },
     "execution_count": 80,
     "metadata": {},
     "output_type": "execute_result"
    }
   ],
   "source": [
    "A = np.array([[1,1],[1.5,4]])\n",
    "A"
   ]
  },
  {
   "cell_type": "code",
   "execution_count": 81,
   "metadata": {},
   "outputs": [
    {
     "data": {
      "text/plain": [
       "array([1500.,  700.])"
      ]
     },
     "execution_count": 81,
     "metadata": {},
     "output_type": "execute_result"
    }
   ],
   "source": [
    "b= np.array([2200,5050])\n",
    "\n",
    "np.linalg.solve(A,b)#lnear algebre"
   ]
  },
  {
   "cell_type": "markdown",
   "metadata": {},
   "source": [
    "**My First linear regression**\n",
    "\n",
    "<h8>y = mx +c +e<h8>\n",
    "<h8>m= Slope<h8>\n",
    "<h8>c= Intercept<h8>\n",
    "<h8>x = random_data_points<h8>\n",
    "<h8>e = error (normal distrubtion around 0)<h8>"
   ]
  },
  {
   "cell_type": "code",
   "execution_count": 229,
   "metadata": {},
   "outputs": [
    {
     "name": "stdout",
     "output_type": "stream",
     "text": [
      "3\n",
      "2\n"
     ]
    },
    {
     "data": {
      "image/png": "[encoded data removed]",
      "text/plain": [
       "<Figure size 432x288 with 1 Axes>"
      ]
     },
     "metadata": {},
     "output_type": "display_data"
    }
   ],
   "source": [
    "import random\n",
    "import numpy as mp\n",
    "import matplotlib.pyplot as plt\n",
    "\n",
    "e = np.random.normal(loc=0.0,scale=1.0,size=100)*10\n",
    "x = np.random.normal(loc=0.0,scale=1.0,size=100)*10\n",
    "#x=np.random.randn(1,100)\n",
    "#e=np.random.randn(1,100)\n",
    "m = random.randint(1,10)\n",
    "c = random.randint(1,10)\n",
    "print(m)\n",
    "print(c)\n",
    "y = m*x + c +e\n",
    "y\n",
    "\n",
    "plt.scatter(x,y)\n",
    "plt.show()"
   ]
  },
  {
   "cell_type": "code",
   "execution_count": 230,
   "metadata": {},
   "outputs": [
    {
     "data": {
      "text/plain": [
       "array([  3.20634998,  39.97192421,  -0.77925203,   6.1571605 ,\n",
       "        38.4291497 ,  -6.64398465,  -3.54666266,  35.9265353 ,\n",
       "        -6.00592568,  -4.69853267,  31.62757512, -13.69680568,\n",
       "         5.24347997,  11.71874535,  35.81882279, -10.96921643,\n",
       "         4.22252329,   1.34661266,  21.24053186,  32.67276327,\n",
       "        21.39899896,  42.17243111,  10.46767028, -14.19405111,\n",
       "         5.56161895,  10.63304199,   1.14947212,   5.21931035,\n",
       "        18.32035787,   8.50866531,  -8.05607887,  11.44796576,\n",
       "         9.6894257 ,  16.46758524,  26.75718967,   4.21236806,\n",
       "        17.48177864,  42.81384858, -23.47058555,  -1.58157993,\n",
       "        -1.51878217,   4.43911505,   2.27149103,  47.63791183,\n",
       "         9.84363526, -19.75862675,   6.54522984,  13.11647064,\n",
       "        18.18054253, -10.98502485,  35.14773963,   8.40405724,\n",
       "         4.91484344,  23.58132827,  11.77603974,  -0.33939051,\n",
       "        -3.06618876,  12.53217279,  -9.4826187 ,  45.59343469,\n",
       "         6.41943997,   9.25461561,   5.22380501,  -3.94524469,\n",
       "        26.96860721,  45.4733526 ,  -3.22466991, -20.91904807,\n",
       "        26.14763041,  41.40096778,  11.28368711,  46.13672214,\n",
       "        11.81679049,   9.22440807,  30.87993138, -11.60082677,\n",
       "        42.87945142,  21.01290214,   1.82430628,  31.31900923,\n",
       "        24.1461225 ,   6.75512917, -36.15167398,   8.7465089 ,\n",
       "        11.40749942,  11.70303112,   5.35768606,  14.2515113 ,\n",
       "        37.15472022,  11.54970482,   1.42281908,   4.62077578,\n",
       "        29.08809478,   8.18654762, -19.71806761,  11.38760312,\n",
       "       -10.84049483,  16.46707032, -40.78995642, -23.08600809])"
      ]
     },
     "execution_count": 230,
     "metadata": {},
     "output_type": "execute_result"
    }
   ],
   "source": [
    "z =2*x + 10 \n",
    "z"
   ]
  },
  {
   "cell_type": "code",
   "execution_count": 231,
   "metadata": {},
   "outputs": [
    {
     "data": {
      "text/plain": [
       "array([1.88915756e+00, 8.86854694e-01, 5.16960713e-02, 1.61792590e+00,\n",
       "       2.09560896e-01, 4.26969952e+00, 4.70933000e+00, 5.90051060e-01,\n",
       "       9.65724209e-01, 6.63622307e-03, 6.47267827e-01, 1.90496449e-01,\n",
       "       5.96066017e-03, 6.33113183e-01, 1.07628904e-02, 2.04831044e+00,\n",
       "       5.45083072e-01, 2.63287650e+00, 3.41245609e+00, 2.39693719e-01,\n",
       "       5.28591946e-02, 1.79827655e-01, 3.46657346e-01, 8.84559609e-01,\n",
       "       2.12279783e+00, 3.42884004e-02, 6.68795444e-01, 1.93000019e-01,\n",
       "       1.29338706e-01, 1.81609625e-01, 2.00937627e+00, 2.53203613e-01,\n",
       "       9.50102720e-03, 9.38816221e-02, 1.36228015e-02, 1.13685044e-02,\n",
       "       1.60615955e-01, 2.83659914e+00, 5.90593871e+00, 1.89513301e+00,\n",
       "       1.07134510e-01, 1.40887969e-01, 1.19313896e+00, 5.28069726e-01,\n",
       "       5.40715891e-01, 7.90128719e+00, 1.11509409e+00, 1.81832421e+00,\n",
       "       2.32491370e-01, 1.06770130e+00, 1.76544399e-01, 3.61595944e+00,\n",
       "       3.21657766e-02, 4.87592267e-01, 3.25524177e-01, 4.78374221e-01,\n",
       "       1.53089843e+00, 7.11404846e-03, 5.32041354e+00, 9.67157916e-01,\n",
       "       5.62846898e-01, 6.07540795e-01, 7.12527185e-01, 5.86804017e-01,\n",
       "       2.15343963e-05, 1.61391531e+00, 2.11891369e+00, 5.92920776e+00,\n",
       "       7.33822553e-01, 9.21052384e-02, 1.36603097e+00, 1.06380223e+00,\n",
       "       1.47858046e-01, 3.09839377e-02, 3.72733202e-03, 2.33819923e+00,\n",
       "       1.10242794e+00, 5.14280569e-01, 8.11578341e-01, 3.13580326e-01,\n",
       "       1.94076675e+00, 2.59955732e-03, 1.76320063e+00, 8.67502114e-02,\n",
       "       1.63813625e-01, 1.13684366e+00, 2.33102083e-01, 2.94381758e-01,\n",
       "       2.51285546e-01, 2.46905447e-01, 7.41879090e-01, 1.77829127e+00,\n",
       "       1.77516164e-01, 2.26973381e+00, 4.79563613e-01, 1.04351404e+00,\n",
       "       5.02375367e+00, 1.86398120e+00, 2.50524788e+00, 2.51419080e+00])"
      ]
     },
     "execution_count": 231,
     "metadata": {},
     "output_type": "execute_result"
    }
   ],
   "source": [
    "k = (y-z)**2\n",
    "k = k/200\n",
    "k"
   ]
  },
  {
   "cell_type": "code",
   "execution_count": 232,
   "metadata": {},
   "outputs": [
    {
     "name": "stdout",
     "output_type": "stream",
     "text": [
      "Slope:2.79878781656304\n",
      "Intercept:9.92542269223297\n",
      "Slope:2.9192738400839895\n",
      "Intercept:9.850845384465941\n",
      "Slope:2.937524452314723\n",
      "Intercept:9.776268076698912\n",
      "Slope:2.9403658773239343\n",
      "Intercept:9.701690768931883\n",
      "Slope:2.940884789538104\n",
      "Intercept:9.627113461164853\n",
      "Slope:2.941053646580278\n",
      "Intercept:9.552536153397824\n",
      "Slope:2.941169742396033\n",
      "Intercept:9.477958845630795\n",
      "Slope:2.9412778859024495\n",
      "Intercept:9.403381537863766\n",
      "Slope:2.9413848308161095\n",
      "Intercept:9.328804230096736\n",
      "Slope:2.9414915950747504\n",
      "Intercept:9.254226922329707\n",
      "Slope:2.9415983321045966\n",
      "Intercept:9.179649614562678\n",
      "Slope:2.9417050650304484\n",
      "Intercept:9.105072306795648\n",
      "Slope:2.941811797337735\n",
      "Intercept:9.030494999028619\n",
      "Slope:2.94191852955179\n",
      "Intercept:8.95591769126159\n",
      "Slope:2.942025261751793\n",
      "Intercept:8.88134038349456\n",
      "Slope:2.942131993949678\n",
      "Intercept:8.806763075727531\n",
      "Slope:2.9422387261472434\n",
      "Intercept:8.732185767960502\n",
      "Slope:2.942345458344761\n",
      "Intercept:8.657608460193472\n",
      "Slope:2.942452190542271\n",
      "Intercept:8.583031152426443\n",
      "Slope:2.9425589227397806\n",
      "Intercept:8.508453844659414\n",
      "Slope:2.9426656549372896\n",
      "Intercept:8.433876536892384\n",
      "Slope:2.9427723871347986\n",
      "Intercept:8.359299229125355\n",
      "Slope:2.9428791193323076\n",
      "Intercept:8.284721921358326\n",
      "Slope:2.9429858515298166\n",
      "Intercept:8.210144613591297\n",
      "Slope:2.9430925837273256\n",
      "Intercept:8.135567305824267\n",
      "Slope:2.9431993159248346\n",
      "Intercept:8.060989998057238\n",
      "Slope:2.9433060481223436\n",
      "Intercept:7.986412690290208\n",
      "Slope:2.943412780319853\n",
      "Intercept:7.9118353825231775\n",
      "Slope:2.943519512517362\n",
      "Intercept:7.837258074756147\n",
      "Slope:2.943626244714871\n",
      "Intercept:7.762680766989117\n",
      "Slope:2.94373297691238\n",
      "Intercept:7.688103459222087\n",
      "Slope:2.943839709109889\n",
      "Intercept:7.613526151455057\n",
      "Slope:2.943946441307398\n",
      "Intercept:7.5389488436880265\n",
      "Slope:2.944053173504907\n",
      "Intercept:7.464371535920996\n",
      "Slope:2.944159905702416\n",
      "Intercept:7.389794228153966\n",
      "Slope:2.944266637899925\n",
      "Intercept:7.315216920386936\n",
      "Slope:2.944373370097434\n",
      "Intercept:7.240639612619906\n",
      "Slope:2.944480102294943\n",
      "Intercept:7.1660623048528755\n",
      "Slope:2.944586834492452\n",
      "Intercept:7.091484997085845\n",
      "Slope:2.944693566689961\n",
      "Intercept:7.016907689318815\n",
      "Slope:2.94480029888747\n",
      "Intercept:6.942330381551785\n",
      "Slope:2.944907031084979\n",
      "Intercept:6.867753073784755\n",
      "Slope:2.945013763282488\n",
      "Intercept:6.7931757660177245\n",
      "Slope:2.945120495479997\n",
      "Intercept:6.718598458250694\n",
      "Slope:2.945227227677506\n",
      "Intercept:6.644021150483664\n",
      "Slope:2.9453339598750152\n",
      "Intercept:6.569443842716634\n",
      "Slope:2.9454406920725247\n",
      "Intercept:6.494866534949604\n",
      "Slope:2.9455474242700337\n",
      "Intercept:6.4202892271825736\n",
      "Slope:2.9456541564675427\n",
      "Intercept:6.345711919415543\n",
      "Slope:2.9457608886650517\n",
      "Intercept:6.271134611648513\n",
      "Slope:2.9458676208625607\n",
      "Intercept:6.196557303881483\n",
      "Slope:2.9459743530600697\n",
      "Intercept:6.121979996114453\n",
      "Slope:2.9460810852575787\n",
      "Intercept:6.047402688347423\n",
      "Slope:2.9461878174550877\n",
      "Intercept:5.972825380580392\n",
      "Slope:2.9462945496525967\n",
      "Intercept:5.898248072813362\n",
      "Slope:2.9464012818501057\n",
      "Intercept:5.823670765046332\n",
      "Slope:2.9465080140476148\n",
      "Intercept:5.749093457279302\n",
      "Slope:2.9466147462451238\n",
      "Intercept:5.674516149512272\n",
      "Slope:2.9467214784426328\n",
      "Intercept:5.599938841745241\n",
      "Slope:2.9468282106401418\n",
      "Intercept:5.525361533978211\n",
      "Slope:2.946934942837651\n",
      "Intercept:5.450784226211181\n",
      "Slope:2.94704167503516\n",
      "Intercept:5.376206918444151\n",
      "Slope:2.947148407232669\n",
      "Intercept:5.301629610677121\n",
      "Slope:2.9472551394301783\n",
      "Intercept:5.22705230291009\n",
      "Slope:2.9473618716276873\n",
      "Intercept:5.15247499514306\n",
      "Slope:2.9474686038251963\n",
      "Intercept:5.07789768737603\n",
      "Slope:2.9475753360227053\n",
      "Intercept:5.003320379609\n",
      "Slope:2.9476820682202143\n",
      "Intercept:4.92874307184197\n",
      "Slope:2.9477888004177233\n",
      "Intercept:4.854165764074939\n",
      "Slope:2.9478955326152323\n",
      "Intercept:4.779588456307909\n",
      "Slope:2.9480022648127413\n",
      "Intercept:4.705011148540879\n",
      "Slope:2.9481089970102503\n",
      "Intercept:4.630433840773849\n",
      "Slope:2.9482157292077593\n",
      "Intercept:4.555856533006819\n",
      "Slope:2.9483224614052683\n",
      "Intercept:4.481279225239788\n",
      "Slope:2.9484291936027773\n",
      "Intercept:4.406701917472758\n",
      "Slope:2.9485359258002863\n",
      "Intercept:4.332124609705728\n",
      "Slope:2.9486426579977953\n",
      "Intercept:4.257547301938698\n",
      "Slope:2.9487493901953044\n",
      "Intercept:4.182969994171668\n",
      "Slope:2.9488561223928134\n",
      "Intercept:4.108392686404637\n",
      "Slope:2.948962854590323\n",
      "Intercept:4.033815378637607\n",
      "Slope:2.949069586787832\n",
      "Intercept:3.9592380708705774\n",
      "Slope:2.949176318985341\n",
      "Intercept:3.8846607631035477\n",
      "Slope:2.94928305118285\n",
      "Intercept:3.810083455336518\n",
      "Slope:2.949389783380359\n",
      "Intercept:3.735506147569488\n",
      "Slope:2.949496515577868\n",
      "Intercept:3.6609288398024584\n",
      "Slope:2.949603247775377\n",
      "Intercept:3.5863515320354287\n",
      "Slope:2.949709979972886\n",
      "Intercept:3.511774224268399\n",
      "Slope:2.949816712170395\n",
      "Intercept:3.437196916501369\n",
      "Slope:2.949923444367904\n",
      "Intercept:3.3626196087343394\n",
      "Slope:2.950030176565413\n",
      "Intercept:3.2880423009673097\n",
      "Slope:2.950136908762922\n",
      "Intercept:3.21346499320028\n",
      "Slope:2.950243640960431\n",
      "Intercept:3.13888768543325\n",
      "Slope:2.95035037315794\n",
      "Intercept:3.0643103776662204\n",
      "Slope:2.950457105355449\n",
      "Intercept:2.9897330698991906\n",
      "Slope:2.950563837552958\n",
      "Intercept:2.915155762132161\n",
      "Slope:2.950670569750467\n",
      "Intercept:2.840578454365131\n",
      "Slope:2.950777301947976\n",
      "Intercept:2.7660011465981014\n",
      "Slope:2.950884034145485\n",
      "Intercept:2.6914238388310716\n",
      "Slope:2.950990766342994\n",
      "Intercept:2.616846531064042\n"
     ]
    }
   ],
   "source": [
    "m=2\n",
    "c=10\n",
    "\n",
    "for i in range(1,100):\n",
    "    dcostdm =(y- m*x -c)*x\n",
    "    dcostdm =-dcostdm/100\n",
    "    dcostdm =np.sum(dcostdm)\n",
    "    dcostdc =(y- 2*x -10)\n",
    "    dcostdc = -dcostdc/100\n",
    "    dcostdc =np.sum(dcostdc)\n",
    "    m = m -(0.01)*(dcostdm)\n",
    "    c = c - (0.01)*dcostdc\n",
    "    print(\"Slope:\"+str(m))\n",
    "    print(\"Intercept:\"+str(c))\n",
    " \n"
   ]
  },
  {
   "cell_type": "code",
   "execution_count": 233,
   "metadata": {},
   "outputs": [
    {
     "name": "stdout",
     "output_type": "stream",
     "text": [
      "2.950990766342994\n",
      "2.616846531064042\n"
     ]
    }
   ],
   "source": [
    "print(m)\n",
    "print(c)\n"
   ]
  },
  {
   "cell_type": "code",
   "execution_count": 234,
   "metadata": {},
   "outputs": [],
   "source": [
    "y1 = m*x +c"
   ]
  },
  {
   "cell_type": "code",
   "execution_count": 235,
   "metadata": {},
   "outputs": [
    {
     "data": {
      "text/plain": [
       "array([-7.40715271e+00,  4.68402823e+01, -1.32878901e+01, -3.05324541e+00,\n",
       "        4.45639257e+01, -2.19412760e+01, -1.73711917e+01,  4.08713297e+01,\n",
       "       -2.09998229e+01, -1.90707706e+01,  3.45282338e+01, -3.23476809e+01,\n",
       "       -4.40137681e+00,  5.15284736e+00,  4.07124004e+01, -2.83231355e+01,\n",
       "       -5.90779368e+00, -1.01511865e+01,  1.92021994e+01,  3.60704041e+01,\n",
       "        1.94360169e+01,  5.00871201e+01,  3.30689187e+00, -3.30813642e+01,\n",
       "       -3.93196422e+00,  3.55089706e+00, -1.04420665e+01, -4.43703898e+00,\n",
       "        1.48934961e+01,  4.16389076e-01, -2.40248145e+01,  4.75331332e+00,\n",
       "        2.15859558e+00,  1.21597387e+01,  2.73420025e+01, -5.92277768e+00,\n",
       "        1.36561764e+01,  5.10335286e+01, -4.67688479e+01, -1.44717212e+01,\n",
       "       -1.43790634e+01, -5.58821355e+00, -8.78653277e+00,  5.81514117e+01,\n",
       "        2.38613107e+00, -4.12918699e+01, -2.48065089e+00,  7.21518457e+00,\n",
       "        1.46871993e+01, -2.83464608e+01,  3.97222203e+01,  2.62040360e-01,\n",
       "       -4.88627850e+00,  2.26560337e+01,  5.23738496e+00, -1.26388764e+01,\n",
       "       -1.66622547e+01,  6.35305579e+00, -2.61296674e+01,  5.51347951e+01,\n",
       "       -2.66625326e+00,  1.51703531e+00, -4.43040713e+00, -1.79592976e+01,\n",
       "        2.76539481e+01,  5.49576145e+01, -1.68960929e+01, -4.30040661e+01,\n",
       "        2.64426006e+01,  4.89488295e+01,  4.51092093e+00,  5.59364132e+01,\n",
       "        5.29751250e+00,  1.47246422e+00,  3.34250889e+01, -2.92550736e+01,\n",
       "        5.11303253e+01,  1.88663328e+01, -9.44635181e+00,  3.40729462e+01,\n",
       "        2.34893850e+01, -2.17094540e+00, -6.54797354e+01,  7.67326206e-01,\n",
       "        4.69360542e+00,  5.12966109e+00, -4.23286626e+00,  8.88993183e+00,\n",
       "        4.26835108e+01,  4.90342884e+00, -1.00387443e+01, -5.32017396e+00,\n",
       "        3.07812422e+01, -5.88940865e-02, -4.12320250e+01,  4.66424852e+00,\n",
       "       -2.81332074e+01,  1.21589789e+01, -7.23234997e+01, -4.62014057e+01])"
      ]
     },
     "execution_count": 235,
     "metadata": {},
     "output_type": "execute_result"
    }
   ],
   "source": [
    "y1"
   ]
  },
  {
   "cell_type": "code",
   "execution_count": 236,
   "metadata": {},
   "outputs": [
    {
     "data": {
      "image/png": "[encoded data removed]",
      "text/plain": [
       "<Figure size 432x288 with 1 Axes>"
      ]
     },
     "metadata": {},
     "output_type": "display_data"
    }
   ],
   "source": [
    "plt.scatter(x,y)\n",
    "plt.plot(x,y1)\n",
    "plt.show()"
   ]
  },
  {
   "cell_type": "code",
   "execution_count": 241,
   "metadata": {},
   "outputs": [
    {
     "data": {
      "text/plain": [
       "(array([ 1.,  3.,  6., 15., 13., 26., 14., 13.,  8.,  1.]),\n",
       " array([-28.16286536, -22.90797869, -17.65309202, -12.39820535,\n",
       "         -7.14331869,  -1.88843202,   3.36645465,   8.62134132,\n",
       "         13.87622799,  19.13111466,  24.38600133]),\n",
       " <a list of 10 Patch objects>)"
      ]
     },
     "execution_count": 241,
     "metadata": {},
     "output_type": "execute_result"
    },
    {
     "data": {
      "image/png": "[encoded data removed]",
      "text/plain": [
       "<Figure size 432x288 with 1 Axes>"
      ]
     },
     "metadata": {},
     "output_type": "display_data"
    }
   ],
   "source": [
    "plt.hist(y1-y)"
   ]
  },
  {
   "cell_type": "code",
   "execution_count": null,
   "metadata": {},
   "outputs": [],
   "source": []
  }
 ],
 "metadata": {
  "kernelspec": {
   "display_name": "Python 3",
   "language": "python",
   "name": "python3"
  },
  "language_info": {
   "codemirror_mode": {
    "name": "ipython",
    "version": 3
   },
   "file_extension": ".py",
   "mimetype": "text/x-python",
   "name": "python",
   "nbconvert_exporter": "python",
   "pygments_lexer": "ipython3",
   "version": "3.6.5"
  }
 },
 "nbformat": 4,
 "nbformat_minor": 2
}

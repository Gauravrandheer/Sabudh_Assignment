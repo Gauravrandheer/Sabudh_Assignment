{
 "cells": [
  {
   "cell_type": "markdown",
   "metadata": {},
   "source": [
    "**Stair Base problem with 1/4 each distribution to 1,2,3 and 1/12 to 4,5,6 distribution**\n",
    "**with numpy**"
   ]
  },
  {
   "cell_type": "code",
   "execution_count": 71,
   "metadata": {},
   "outputs": [
    {
     "name": "stdout",
     "output_type": "stream",
     "text": [
      "0:00:00.156490\n",
      "418.595\n"
     ]
    },
    {
     "data": {
      "image/png": "[encoded data removed]",
      "text/plain": [
       "<Figure size 432x288 with 1 Axes>"
      ]
     },
     "metadata": {},
     "output_type": "display_data"
    }
   ],
   "source": [
    "import random\n",
    "import numpy as np\n",
    "import matplotlib.pyplot as plt\n",
    "from datetime import datetime\n",
    "%matplotlib inline\n",
    "\n",
    "\n",
    "t1 = datetime.now()\n",
    "x=[-1,1,2,3,4,5,6]\n",
    "z = np.zeros(1000)\n",
    "for i in range(1000):\n",
    "    c= np.random.choice(x, 1000, p=[1/2, 13/36, 1/36, 1/36, 1/36,1/36,1/36])\n",
    "    z=c+z\n",
    "    z[z<0]=0\n",
    "\n",
    "t2 = datetime.now()\n",
    "print(t2-t1)\n",
    "\n",
    "    \n",
    "z    \n",
    "plt.hist(z,bins=1000)\n",
    "print(np.mean(z))"
   ]
  },
  {
   "cell_type": "markdown",
   "metadata": {},
   "source": [
    "** Simple stairBase with distributon with numpy**"
   ]
  },
  {
   "cell_type": "code",
   "execution_count": 69,
   "metadata": {},
   "outputs": [
    {
     "name": "stdout",
     "output_type": "stream",
     "text": [
      "0:00:00.166070\n",
      "2.084\n"
     ]
    },
    {
     "data": {
      "image/png": "[encoded data removed]",
      "text/plain": [
       "<Figure size 432x288 with 1 Axes>"
      ]
     },
     "metadata": {},
     "output_type": "display_data"
    }
   ],
   "source": [
    "import random\n",
    "import numpy as np\n",
    "import matplotlib.pyplot as plt\n",
    "from datetime import datetime\n",
    "%matplotlib inline\n",
    "\n",
    "\n",
    "t1 = datetime.now()\n",
    "x=[-1,1,2,3,4,5,6]\n",
    "z = np.zeros(1000)\n",
    "for i in range(1000):\n",
    "    c= np.random.choice(x, 1000, p=[3/4, 9/48, 1/48, 1/48, 1/144,1/144,1/144])\n",
    "    z=c+z\n",
    "    z[z<0]=0\n",
    "\n",
    "t2 = datetime.now()\n",
    "print(t2-t1)\n",
    "\n",
    "    \n",
    "z    \n",
    "plt.hist(z,bins=100)\n",
    "print(np.mean(z))"
   ]
  },
  {
   "cell_type": "code",
   "execution_count": null,
   "metadata": {},
   "outputs": [],
   "source": []
  }
 ],
 "metadata": {
  "kernelspec": {
   "display_name": "Python 3",
   "language": "python",
   "name": "python3"
  },
  "language_info": {
   "codemirror_mode": {
    "name": "ipython",
    "version": 3
   },
   "file_extension": ".py",
   "mimetype": "text/x-python",
   "name": "python",
   "nbconvert_exporter": "python",
   "pygments_lexer": "ipython3",
   "version": "3.6.5"
  }
 },
 "nbformat": 4,
 "nbformat_minor": 2
}

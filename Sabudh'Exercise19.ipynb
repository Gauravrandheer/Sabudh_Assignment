{
 "cells": [
  {
   "cell_type": "markdown",
   "metadata": {},
   "source": [
    "**Stair Base Problem with 1/6 probabily distribution to each dice number**\n",
    "<h8> General Approach<h8>"
   ]
  },
  {
   "cell_type": "code",
   "execution_count": 1,
   "metadata": {
    "scrolled": true
   },
   "outputs": [
    {
     "name": "stdout",
     "output_type": "stream",
     "text": [
      "418.315\n",
      "55.52953966133701\n"
     ]
    },
    {
     "data": {
      "image/png": "[encoded data removed]",
      "text/plain": [
       "<Figure size 432x288 with 1 Axes>"
      ]
     },
     "metadata": {},
     "output_type": "display_data"
    }
   ],
   "source": [
    "import random\n",
    "import numpy as np\n",
    "import matplotlib.pyplot as plt\n",
    "%matplotlib inline\n",
    "\n",
    "t = random.randint(1,6)\n",
    "\n",
    "\n",
    "def st(n):\n",
    "    count = 0\n",
    "    for j in range(n):\n",
    "        t = random.randint(1,6)\n",
    "        if t == 1 or t==2 or t==3:\n",
    "                count= max(count-1,0)\n",
    "        if t == 4 or t==5:\n",
    "            count+=1\n",
    "        if t ==6:\n",
    "            t = random.randint(1,6)\n",
    "            count=count+ t\n",
    "    return count\n",
    "\n",
    "n=1000\n",
    "c = []\n",
    "\n",
    "for i in range(1000):\n",
    "    c.append(st(n))\n",
    "\n",
    "plt.hist(c,bins=100)\n",
    "print(np.mean(c))\n",
    "print(np.std(c))"
   ]
  },
  {
   "cell_type": "markdown",
   "metadata": {},
   "source": [
    "**Using Class**"
   ]
  },
  {
   "cell_type": "code",
   "execution_count": 21,
   "metadata": {},
   "outputs": [],
   "source": [
    "import random\n",
    "import numpy as np\n",
    "import matplotlib.pyplot as plt\n",
    "%matplotlib inline\n",
    "\n",
    "class stairBase():\n",
    "    \n",
    "    def __init__(self,number):\n",
    "        self.number = number\n",
    "    \n",
    "    def solve(self,t):\n",
    "        self.t = t    \n",
    "        count = 0\n",
    "        for j in range(n):\n",
    "            t = random.randint(1,6)\n",
    "            if t == 1 or t==2 or t==3:\n",
    "                count= max(count-1,0)\n",
    "            if t == 4 or t==5:\n",
    "                count+=1\n",
    "            if t ==6:\n",
    "                t = random.randint(1,6)\n",
    "                count=count+ t\n",
    "        return count\n",
    "    \n",
    "    def plot_hist(self,n):\n",
    "        n = self.number\n",
    "        c = []\n",
    "        for i in range(1000):\n",
    "            c.append(self.solve(n))#we need to appy self.function if we want to apply function  in other function \n",
    "\n",
    "        plt.hist(c,bins=100)\n",
    "        print(np.mean(c))\n",
    "        print(np.std(c))\n",
    "        \n",
    "    \n",
    "t = random.randint(1,6)\n",
    "n=1000\n",
    "\n",
    "        "
   ]
  },
  {
   "cell_type": "code",
   "execution_count": 23,
   "metadata": {},
   "outputs": [
    {
     "name": "stdout",
     "output_type": "stream",
     "text": [
      "417.461\n",
      "55.09381525180481\n"
     ]
    },
    {
     "data": {
      "image/png": "[encoded data removed]",
      "text/plain": [
       "<Figure size 432x288 with 1 Axes>"
      ]
     },
     "metadata": {},
     "output_type": "display_data"
    }
   ],
   "source": [
    "k = stairBase(n)\n",
    "k.plot_hist(n)"
   ]
  },
  {
   "cell_type": "markdown",
   "metadata": {},
   "source": [
    "**Stair Base Problem with 1/4 probabily distribution to dice number 1,2,3 and 1/12 probabily distribution to  dice number 4,5,6**\n",
    "<h8>General Approach<h8>"
   ]
  },
  {
   "cell_type": "code",
   "execution_count": 4,
   "metadata": {},
   "outputs": [
    {
     "name": "stdout",
     "output_type": "stream",
     "text": [
      "-353.77\n",
      "38.791044069475625\n"
     ]
    },
    {
     "data": {
      "image/png": "[encoded data removed]",
      "text/plain": [
       "<Figure size 432x288 with 1 Axes>"
      ]
     },
     "metadata": {},
     "output_type": "display_data"
    }
   ],
   "source": [
    "\n",
    "import random\n",
    "import numpy as np\n",
    "import matplotlib.pyplot as plt\n",
    "%matplotlib inline\n",
    "t = random.randint(1,6)\n",
    "\n",
    "\n",
    "def st(n,y):\n",
    "    count = 0\n",
    "    for j in range(n):\n",
    "        t = random.choice(y)\n",
    "        if t == 1 or t==2 or t==3:\n",
    "                count= count-1\n",
    "        if t == 4 or t==5:\n",
    "            count+=1\n",
    "        if t ==6:\n",
    "            t = random.choice(y)\n",
    "            count=count+ t\n",
    "    return count\n",
    "\n",
    "n=1000\n",
    "c = []\n",
    "x=[1,1,1,2,2,2,3,3,3,4,5,6]\n",
    "for i in range(1000):\n",
    "    c.append(st(n,x))\n",
    "    \n",
    "    \n",
    "    \n",
    "plt.hist(c,bins=100)\n",
    "print(np.mean(c))\n",
    "print(np.std(c))\n"
   ]
  },
  {
   "cell_type": "markdown",
   "metadata": {},
   "source": [
    "** Using Class**"
   ]
  },
  {
   "cell_type": "code",
   "execution_count": 24,
   "metadata": {},
   "outputs": [],
   "source": [
    "import random\n",
    "import numpy as np\n",
    "import matplotlib.pyplot as plt\n",
    "%matplotlib inline\n",
    "\n",
    "class stairBase():\n",
    "    \n",
    "    def __init__(self,number):\n",
    "        self.number = number\n",
    "   \n",
    "    def solve(self,t,y):\n",
    "        self.t = t    \n",
    "        self.y = y\n",
    "        count = 0\n",
    "        for j in range(n):\n",
    "            t = random.choice(y)\n",
    "            if t == 1 or t==2 or t==3:\n",
    "                count= count-1\n",
    "            if t == 4 or t==5:\n",
    "                count+=1\n",
    "            if t ==6:\n",
    "                t =random.choice(y)\n",
    "                count=count+ t\n",
    "        return count\n",
    "    \n",
    "    def plot_hist(self,n,y):\n",
    "        n = self.number\n",
    "        self.y =y\n",
    "        c = []\n",
    "        for i in range(1000):\n",
    "            c.append(self.solve(n,y))#we need to appy self.function if we want to apply function  in other function \n",
    "\n",
    "        plt.hist(c,bins=100)\n",
    "        print(np.mean(c))\n",
    "        print(np.std(c))\n",
    "        \n",
    "    \n",
    "t = random.randint(1,6)\n",
    "x=[1,1,1,2,2,2,3,3,3,4,5,6]\n",
    "n=1000\n"
   ]
  },
  {
   "cell_type": "code",
   "execution_count": 26,
   "metadata": {},
   "outputs": [
    {
     "name": "stdout",
     "output_type": "stream",
     "text": [
      "-354.033\n",
      "39.780320649788635\n"
     ]
    },
    {
     "data": {
      "image/png": "[encoded data removed]",
      "text/plain": [
       "<Figure size 432x288 with 1 Axes>"
      ]
     },
     "metadata": {},
     "output_type": "display_data"
    }
   ],
   "source": [
    "k = stairBase(n)\n",
    "k.plot_hist(n,x)"
   ]
  },
  {
   "cell_type": "code",
   "execution_count": null,
   "metadata": {},
   "outputs": [],
   "source": []
  }
 ],
 "metadata": {
  "kernelspec": {
   "display_name": "Python 3",
   "language": "python",
   "name": "python3"
  },
  "language_info": {
   "codemirror_mode": {
    "name": "ipython",
    "version": 3
   },
   "file_extension": ".py",
   "mimetype": "text/x-python",
   "name": "python",
   "nbconvert_exporter": "python",
   "pygments_lexer": "ipython3",
   "version": "3.6.5"
  }
 },
 "nbformat": 4,
 "nbformat_minor": 2
}

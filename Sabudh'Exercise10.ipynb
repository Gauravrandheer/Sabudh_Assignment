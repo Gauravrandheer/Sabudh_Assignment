{
 "cells": [
  {
   "cell_type": "markdown",
   "metadata": {},
   "source": [
    "**Guesstheword**"
   ]
  },
  {
   "cell_type": "markdown",
   "metadata": {},
   "source": [
    "**General Approach**"
   ]
  },
  {
   "cell_type": "code",
   "execution_count": 1,
   "metadata": {},
   "outputs": [
    {
     "name": "stdout",
     "output_type": "stream",
     "text": [
      "_ _ _ _ _ _ _ _ _\n",
      "enter the characterE\n",
      "Guess the correct letter:E\n",
      "E _ _ _ _ _ _ _ _\n",
      "E _ _ _ _ _ _ _ E\n",
      "enter the characterV\n",
      "Guess the correct letter:V\n",
      "E V _ _ _ _ _ _ E\n",
      "enter the characterE\n",
      "you have already guess this letter\n",
      "enter the characterO\n",
      "Guess the correct letter:O\n",
      "E V _ _ O _ _ _ E\n",
      "enter the characterR\n",
      "Guess the correct letter:R\n",
      "E V _ _ O R _ _ E\n",
      "enter the characterA\n",
      "Guess the correct letter:A\n",
      "E V A _ O R _ _ E\n",
      "E V A _ O R A _ E\n",
      "enter the characterT\n",
      "Guess the correct letter:T\n",
      "E V A _ O R A T E\n",
      "enter the characterP\n",
      "Guess the correct letter:P\n",
      "E V A P O R A T E\n",
      "Congo You have completed this game\n"
     ]
    }
   ],
   "source": [
    "ls = \"EVAPORATE\"\n",
    "z = [x for x in str(ls)]\n",
    "lis = ['_', '_', '_', '_', '_', '_', '_', '_', '_']\n",
    "print(\" \".join(lis))\n",
    "count =0\n",
    "out = 0\n",
    "while True:\n",
    "    if count==6:\n",
    "        print(\"Game Over\")\n",
    "        break\n",
    "    if out==7:\n",
    "        print(\"Congo You have completed this game\")\n",
    "        break\n",
    "    guess = input(\"enter the character\")\n",
    "    for i in range(len(z)):\n",
    "        if out==7:\n",
    "            break\n",
    "        if guess in lis:\n",
    "            print(\"you have already guess this letter\")\n",
    "            break\n",
    "        if guess in z:\n",
    "            out+=1\n",
    "            print(\"Guess the correct letter:\"+ guess)\n",
    "            k= z.index(guess)\n",
    "            lis[k]= guess\n",
    "            print(\" \".join(lis))\n",
    "            c= z.count(guess)\n",
    "            if c==2:\n",
    "                k= z.index(guess)\n",
    "                z[k]= \"0\"\n",
    "                if guess in z:\n",
    "                    d = z.index(guess)\n",
    "                    lis[d]= guess\n",
    "                    print(\" \".join(lis))\n",
    "            if out==7:\n",
    "                break\n",
    "            break\n",
    "        else:\n",
    "            count+=1\n",
    "            print(\"Incorrect letter\")\n",
    "            if count==6:\n",
    "                break\n",
    "            guess = input(\"enter the character again:\")\n",
    "            \n",
    "        \n",
    "        \n",
    "        "
   ]
  },
  {
   "cell_type": "markdown",
   "metadata": {},
   "source": [
    "**Using Class**"
   ]
  },
  {
   "cell_type": "code",
   "execution_count": 2,
   "metadata": {},
   "outputs": [],
   "source": [
    "class guess_game():\n",
    "    \n",
    "    def __init__(self,word):\n",
    "        self.word = word\n",
    "        \n",
    "    def Solve_game(self):\n",
    "        ls = self.word\n",
    "        z = [x for x in str(ls)]\n",
    "        lis = ['_', '_', '_', '_', '_', '_', '_', '_', '_']\n",
    "        print(\" \".join(lis))\n",
    "        count =0\n",
    "        out = 0\n",
    "        while True:\n",
    "            if count==6:\n",
    "                print(\"Game Over\")\n",
    "                break\n",
    "            if out==7:\n",
    "                print(\"Congo You have completed this game\")\n",
    "                break\n",
    "            guess = input(\"enter the character\")\n",
    "            for i in range(len(z)):\n",
    "                if out==7:\n",
    "                    break\n",
    "                if guess in lis:\n",
    "                    print(\"you have already guess this letter\")\n",
    "                    break\n",
    "                if guess in z:\n",
    "                    out+=1\n",
    "                    print(\"Guess the correct letter:\"+ guess)\n",
    "                    k= z.index(guess)\n",
    "                    lis[k]= guess\n",
    "                    print(\" \".join(lis))\n",
    "                    c= z.count(guess)\n",
    "                    if c==2:\n",
    "                        k= z.index(guess)\n",
    "                        z[k]= \"0\"\n",
    "                        if guess in z:\n",
    "                            d = z.index(guess)\n",
    "                            lis[d]= guess\n",
    "                            print(\" \".join(lis))\n",
    "                    if out==7:\n",
    "                        break\n",
    "                    break\n",
    "                else:\n",
    "                    count+=1\n",
    "                    print(\"Incorrect letter\")\n",
    "                    if count==6:\n",
    "                        break\n",
    "                    guess = input(\"enter the character again:\")\n",
    "            \n"
   ]
  },
  {
   "cell_type": "code",
   "execution_count": 3,
   "metadata": {},
   "outputs": [],
   "source": [
    "s = guess_game(\"EVAPORATE\")"
   ]
  },
  {
   "cell_type": "code",
   "execution_count": 4,
   "metadata": {},
   "outputs": [
    {
     "name": "stdout",
     "output_type": "stream",
     "text": [
      "_ _ _ _ _ _ _ _ _\n",
      "enter the characterE\n",
      "Guess the correct letter:E\n",
      "E _ _ _ _ _ _ _ _\n",
      "E _ _ _ _ _ _ _ E\n",
      "enter the characterv\n",
      "Incorrect letter\n",
      "enter the character again:V\n",
      "Guess the correct letter:V\n",
      "E V _ _ _ _ _ _ E\n",
      "enter the charactero\n",
      "Incorrect letter\n",
      "enter the character again:E\n",
      "you have already guess this letter\n",
      "enter the characterO\n",
      "Guess the correct letter:O\n",
      "E V _ _ O _ _ _ E\n",
      "enter the characterR\n",
      "Guess the correct letter:R\n",
      "E V _ _ O R _ _ E\n",
      "enter the characterP\n",
      "Guess the correct letter:P\n",
      "E V _ P O R _ _ E\n",
      "enter the characterA\n",
      "Guess the correct letter:A\n",
      "E V A P O R _ _ E\n",
      "E V A P O R A _ E\n",
      "enter the characterT\n",
      "Guess the correct letter:T\n",
      "E V A P O R A T E\n",
      "Congo You have completed this game\n"
     ]
    }
   ],
   "source": [
    "s.Solve_game()"
   ]
  }
 ],
 "metadata": {
  "language_info": {
   "codemirror_mode": {
    "name": "ipython",
    "version": 3
   },
   "file_extension": ".py",
   "mimetype": "text/x-python",
   "name": "python",
   "nbconvert_exporter": "python",
   "pygments_lexer": "ipython3",
   "version": "3.6.5"
  }
 },
 "nbformat": 4,
 "nbformat_minor": 2
}

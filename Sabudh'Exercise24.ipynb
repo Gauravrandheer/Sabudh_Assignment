{
 "cells": [
  {
   "cell_type": "code",
   "execution_count": 13,
   "metadata": {},
   "outputs": [],
   "source": [
    "from sympy import * #This is the library we are using for calculas calculation. \n",
    "\n",
    "class Sderivate(): \n",
    "    \n",
    "    def __init__(self,exp):\n",
    "        self.exp = exp\n",
    "\n",
    "    def Solve(self):\n",
    "        funct = self.exp\n",
    "        y= diff(funct,x)\n",
    "        z= diff(funct,x,2)#third step means how many time you want derivative of function,this time it's 2.\n",
    "        print(y)\n",
    "        print(z)\n",
    "        \n",
    "x = Symbol('x')  # this argument shows we need derivative of function respect to x      "
   ]
  },
  {
   "cell_type": "code",
   "execution_count": 18,
   "metadata": {},
   "outputs": [],
   "source": [
    "\n",
    "myFunction =Sderivate(\"(x**2+(1+cos(x)))\")\n"
   ]
  },
  {
   "cell_type": "code",
   "execution_count": 19,
   "metadata": {},
   "outputs": [
    {
     "name": "stdout",
     "output_type": "stream",
     "text": [
      "2*x - sin(x)\n",
      "-cos(x) + 2\n"
     ]
    }
   ],
   "source": [
    "myFunction.Solve()"
   ]
  },
  {
   "cell_type": "code",
   "execution_count": null,
   "metadata": {},
   "outputs": [],
   "source": []
  }
 ],
 "metadata": {
  "kernelspec": {
   "display_name": "Python 3",
   "language": "python",
   "name": "python3"
  },
  "language_info": {
   "codemirror_mode": {
    "name": "ipython",
    "version": 3
   },
   "file_extension": ".py",
   "mimetype": "text/x-python",
   "name": "python",
   "nbconvert_exporter": "python",
   "pygments_lexer": "ipython3",
   "version": "3.6.5"
  }
 },
 "nbformat": 4,
 "nbformat_minor": 2
}

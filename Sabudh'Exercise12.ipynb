{
 "cells": [
  {
   "cell_type": "markdown",
   "metadata": {},
   "source": [
    "**HappyNumbers**"
   ]
  },
  {
   "cell_type": "markdown",
   "metadata": {},
   "source": [
    "**General Approach**"
   ]
  },
  {
   "cell_type": "code",
   "execution_count": 4,
   "metadata": {},
   "outputs": [
    {
     "name": "stdout",
     "output_type": "stream",
     "text": [
      "enter the number96\n",
      "Not a Happy number\n"
     ]
    }
   ],
   "source": [
    "lis = [4, 16, 37, 58, 89, 145, 42, 20]\n",
    "user = input(\"enter the number\")\n",
    "if user in lis:\n",
    "    print(\"Not a Happy number\")\n",
    "else:\n",
    "    while True:        \n",
    "        if user in lis:\n",
    "            print(\"Not a Happy number\")\n",
    "            break\n",
    "        if len(str(user))==1:\n",
    "            print(\"1\")\n",
    "            user = int(user)**2\n",
    "            if user== (1 or 10 or 100 or 1000 or 10000):\n",
    "                print(\"This is the happy number\") \n",
    "                break\n",
    "        elif len(str(user))==2:\n",
    "            user = int(str(user)[0])**2+int(str(user)[1])**2\n",
    "            if user==(1 or 10 or 100 or 1000 or 10000):\n",
    "                print(\"This is the happy number\")\n",
    "                break\n",
    "        elif len(str(user))==3:\n",
    "            user = int(str(user)[0])**2+int(str(user)[1])**2+int(str(user)[2])**2\n",
    "            if user==(1 or 10 or 100 or 1000 or 10000):\n",
    "                print(\"This is the happy number\")\n",
    "                break\n",
    "        elif len(str(user))==4:\n",
    "            user = int(str(user)[0])**2+int(str(user)[1])**2+int(str(user)[2])**2+int(str(user)[3])**2\n",
    "            if user==(1 or 10 or 100 or 1000 or 10000):\n",
    "                print(\"This is the happy number\")\n",
    "                break\n",
    "            \n",
    "            \n",
    "            \n",
    "    \n"
   ]
  },
  {
   "cell_type": "markdown",
   "metadata": {},
   "source": [
    "**Using Class Approach**"
   ]
  },
  {
   "cell_type": "code",
   "execution_count": 11,
   "metadata": {},
   "outputs": [
    {
     "name": "stdout",
     "output_type": "stream",
     "text": [
      "enter the number68\n"
     ]
    }
   ],
   "source": [
    "class Happy_Number():\n",
    "    \n",
    "    def __init__(self,word ,lis):\n",
    "        self.word = word\n",
    "        self.lis = lis\n",
    "        \n",
    "        \n",
    "    def cal_happynum(self):\n",
    "        user = self.word\n",
    "        lis = self.lis\n",
    "        if user in lis:\n",
    "            print(\"Not a Happy number\")\n",
    "        else:\n",
    "            while True:        \n",
    "                if user in lis:\n",
    "                    print(\"Not a Happy number\")\n",
    "                    break\n",
    "                if len(str(user))==1:\n",
    "                    print(\"1\")\n",
    "                    user = int(user)**2\n",
    "                    if user== (1 or 10 or 100 or 1000 or 10000):\n",
    "                        print(\"This is the happy number\") \n",
    "                        break\n",
    "                elif len(str(user))==2:\n",
    "                    user = int(str(user)[0])**2+int(str(user)[1])**2\n",
    "                    if user==(1 or 10 or 100 or 1000 or 10000):\n",
    "                        print(\"This is the happy number\")\n",
    "                        break\n",
    "                elif len(str(user))==3:\n",
    "                    user = int(str(user)[0])**2+int(str(user)[1])**2+int(str(user)[2])**2\n",
    "                    if user==(1 or 10 or 100 or 1000 or 10000):\n",
    "                        print(\"This is the happy number\")\n",
    "                        break\n",
    "                elif len(str(user))==4:\n",
    "                    user = int(str(user)[0])**2+int(str(user)[1])**2+int(str(user)[2])**2+int(str(user)[3])**2\n",
    "                    if user==(1 or 10 or 100 or 1000 or 10000):\n",
    "                        print(\"This is the happy number\")\n",
    "                        break\n",
    "  \n",
    "\n",
    "\n",
    "\n",
    " \n",
    "lis = [4, 16, 37, 58, 89, 145, 42, 20]\n",
    "user = input(\"enter the number\")       \n",
    "        \n",
    "    \n",
    "        "
   ]
  },
  {
   "cell_type": "code",
   "execution_count": 12,
   "metadata": {},
   "outputs": [],
   "source": [
    "m = Happy_Number(user,lis)"
   ]
  },
  {
   "cell_type": "code",
   "execution_count": 13,
   "metadata": {},
   "outputs": [
    {
     "name": "stdout",
     "output_type": "stream",
     "text": [
      "This is the happy number\n"
     ]
    }
   ],
   "source": [
    "m.cal_happynum()"
   ]
  }
 ],
 "metadata": {
  "language_info": {
   "codemirror_mode": {
    "name": "ipython",
    "version": 3
   },
   "file_extension": ".py",
   "mimetype": "text/x-python",
   "name": "python",
   "nbconvert_exporter": "python",
   "pygments_lexer": "ipython3",
   "version": "3.6.5"
  }
 },
 "nbformat": 4,
 "nbformat_minor": 2
}

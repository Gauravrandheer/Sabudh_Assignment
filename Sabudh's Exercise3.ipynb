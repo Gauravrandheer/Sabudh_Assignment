{
 "cells": [
  {
   "cell_type": "markdown",
   "metadata": {},
   "source": [
    "**Divisor with list **"
   ]
  },
  {
   "cell_type": "code",
   "execution_count": 53,
   "metadata": {},
   "outputs": [
    {
     "name": "stdout",
     "output_type": "stream",
     "text": [
      "Enter the number100\n",
      "Divisor is 1\n",
      "Divisor is 2\n",
      "Divisor is 4\n",
      "Divisor is 5\n",
      "Divisor is 10\n",
      "Divisor is 20\n",
      "Divisor is 25\n",
      "Divisor is 50\n",
      "[1, 2, 4, 5, 10, 20, 25, 50]\n"
     ]
    }
   ],
   "source": [
    "def Divisor(Number):\n",
    "    l= []\n",
    "    for i in range(1,int(Number/2)+1):\n",
    "        if Number%i==0:\n",
    "            l.append(i)\n",
    "            print(\"Divisor is \"+ str(i))\n",
    "    return print(l)\n",
    "Number = int(input(\"Enter the number\"))\n",
    "Divisor(Number)"
   ]
  },
  {
   "cell_type": "markdown",
   "metadata": {},
   "source": [
    "** Find the Common element**\n"
   ]
  },
  {
   "cell_type": "code",
   "execution_count": 63,
   "metadata": {},
   "outputs": [
    {
     "name": "stdout",
     "output_type": "stream",
     "text": [
      "1\n",
      "2\n",
      "3\n",
      "5\n",
      "8\n",
      "13\n",
      "[1, 2, 3, 5, 8, 13]\n"
     ]
    }
   ],
   "source": [
    "def commonElement(a,b):\n",
    "    l = []\n",
    "    for i in a:\n",
    "        for j in b:\n",
    "            if i==j:\n",
    "                if i in l:\n",
    "                    continue  \n",
    "                print(i)\n",
    "                l.append(i)\n",
    "    return print(l)\n",
    "\n",
    "a = [1, 1, 2, 3, 5, 8, 13, 21, 34, 55, 89]\n",
    "b = [1, 2, 3, 4, 5, 6, 7, 8, 9, 10, 11, 12, 13]\n",
    "\n",
    "commonElement(a,b)\n",
    "\n",
    "\n",
    "        "
   ]
  },
  {
   "cell_type": "markdown",
   "metadata": {},
   "source": [
    "**Palindrone**"
   ]
  },
  {
   "cell_type": "code",
   "execution_count": 102,
   "metadata": {},
   "outputs": [
    {
     "name": "stdout",
     "output_type": "stream",
     "text": [
      "Enter the String :naman\n",
      "p\n"
     ]
    }
   ],
   "source": [
    "def palindrome(a):\n",
    "    flag=0\n",
    "    for i in range(0,int(len(a)/2)):\n",
    "        \n",
    "        if a[i]==a[len(a)-i-1]:\n",
    "            flag=True\n",
    "        else:\n",
    "            flag= False\n",
    "    if flag==True:\n",
    "        print(\"p\")\n",
    "    else:\n",
    "        print(\"N\")\n",
    "        \n",
    "        \n",
    "a = input(\"Enter the String :\")\n",
    "\n",
    "palindrome(a)\n",
    "\n",
    "   \n",
    "    \n",
    "\n",
    "    \n"
   ]
  },
  {
   "cell_type": "code",
   "execution_count": null,
   "metadata": {},
   "outputs": [],
   "source": []
  }
 ],
 "metadata": {
  "kernelspec": {
   "display_name": "Python 3",
   "language": "python",
   "name": "python3"
  },
  "language_info": {
   "codemirror_mode": {
    "name": "ipython",
    "version": 3
   },
   "file_extension": ".py",
   "mimetype": "text/x-python",
   "name": "python",
   "nbconvert_exporter": "python",
   "pygments_lexer": "ipython3",
   "version": "3.6.5"
  }
 },
 "nbformat": 4,
 "nbformat_minor": 2
}

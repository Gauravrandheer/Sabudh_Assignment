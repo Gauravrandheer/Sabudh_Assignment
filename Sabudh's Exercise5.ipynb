{
 "cells": [
  {
   "cell_type": "markdown",
   "metadata": {},
   "source": [
    "**Fibannaci Series**"
   ]
  },
  {
   "cell_type": "code",
   "execution_count": 13,
   "metadata": {},
   "outputs": [
    {
     "name": "stdout",
     "output_type": "stream",
     "text": [
      "Enter the number10\n",
      "[1, 1, 2, 3, 5, 8, 13, 21, 34, 55, 89]\n"
     ]
    }
   ],
   "source": [
    "Num = input(\"Enter the number\")\n",
    "\n",
    "l=[]\n",
    "a=1\n",
    "b=0\n",
    "for i in range(0,int(Num)+1):\n",
    "    c=a+b\n",
    "    l.append(c)\n",
    "    a=b\n",
    "    b=c\n",
    "print(l)\n",
    "    \n",
    "    \n",
    "    "
   ]
  },
  {
   "cell_type": "markdown",
   "metadata": {},
   "source": [
    "**Random game**\n"
   ]
  },
  {
   "cell_type": "code",
   "execution_count": 1,
   "metadata": {},
   "outputs": [
    {
     "name": "stdout",
     "output_type": "stream",
     "text": [
      "enter the number5\n",
      "Correct\n"
     ]
    }
   ],
   "source": [
    "import random\n",
    "\n",
    "def Game(guess):\n",
    "    Num= input(\"enter the number\")\n",
    "    Num= int(Num)\n",
    "    while True:\n",
    "        if guess==Num:\n",
    "            print(\"Correct\")\n",
    "            break\n",
    "        elif guess>Num:\n",
    "            if guess-Num>4:\n",
    "                print(\"toolow\")\n",
    "                Game(guess)\n",
    "            else:\n",
    "                print(\"low\")\n",
    "                Game(guess)\n",
    "        elif guess<Num:\n",
    "            if Num-guess>4:\n",
    "                print(\"toohigh\")\n",
    "                Game(guess)\n",
    "            else:\n",
    "                print(\"high\")\n",
    "                Game(guess)\n",
    "        \n",
    "guess = random.randint(1,9)        \n",
    "Game(guess)"
   ]
  },
  {
   "cell_type": "markdown",
   "metadata": {},
   "source": [
    "**Reverse the String**"
   ]
  },
  {
   "cell_type": "code",
   "execution_count": 9,
   "metadata": {},
   "outputs": [
    {
     "name": "stdout",
     "output_type": "stream",
     "text": [
      "enter the textGaurav is my name\n",
      "name my is Gaurav\n"
     ]
    }
   ],
   "source": [
    "User= input(\"enter the text\")\n",
    "t= User.split(\" \")\n",
    "k= t[: :-1]\n",
    "l = \" \".join(k)\n",
    "print(l)\n",
    "\n"
   ]
  },
  {
   "cell_type": "code",
   "execution_count": 8,
   "metadata": {},
   "outputs": [
    {
     "name": "stdout",
     "output_type": "stream",
     "text": [
      "enter the textmy name is Gaurav\n",
      "Gaurav is name my\n"
     ]
    }
   ],
   "source": [
    "def reverseString(t):\n",
    "    k= len(t)\n",
    "    l=[]\n",
    "    for i in range(0,len(t)):\n",
    "        z=t[k-i-1]\n",
    "        l.append(z)\n",
    "    print(\" \".join(l))\n",
    "    \n",
    "User= input(\"enter the text\")\n",
    "t= User.split(\" \")\n",
    "\n",
    "reverseString(t)    \n"
   ]
  },
  {
   "cell_type": "code",
   "execution_count": null,
   "metadata": {},
   "outputs": [],
   "source": []
  }
 ],
 "metadata": {
  "kernelspec": {
   "display_name": "Python 3",
   "language": "python",
   "name": "python3"
  },
  "language_info": {
   "codemirror_mode": {
    "name": "ipython",
    "version": 3
   },
   "file_extension": ".py",
   "mimetype": "text/x-python",
   "name": "python",
   "nbconvert_exporter": "python",
   "pygments_lexer": "ipython3",
   "version": "3.6.5"
  }
 },
 "nbformat": 4,
 "nbformat_minor": 2
}

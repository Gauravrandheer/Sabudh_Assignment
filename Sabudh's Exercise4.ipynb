{
 "cells": [
  {
   "cell_type": "markdown",
   "metadata": {},
   "source": [
    "**List_Compression**"
   ]
  },
  {
   "cell_type": "code",
   "execution_count": 1,
   "metadata": {},
   "outputs": [
    {
     "name": "stdout",
     "output_type": "stream",
     "text": [
      "[4, 16, 36, 64, 100]\n"
     ]
    }
   ],
   "source": [
    "a=[1, 4, 9, 16, 25, 36, 49, 64, 81, 100]\n",
    "l= []\n",
    "for i in range(0,len(a)):\n",
    "    if a[i]%2==0:\n",
    "        l.append(a[i])\n",
    "print(l)\n",
    "        "
   ]
  },
  {
   "cell_type": "code",
   "execution_count": 2,
   "metadata": {},
   "outputs": [
    {
     "name": "stdout",
     "output_type": "stream",
     "text": [
      "[4, 16, 36, 64, 100]\n"
     ]
    }
   ],
   "source": [
    "a=[1, 4, 9, 16, 25, 36, 49, 64, 81, 100]\n",
    "print([i for i in a if i%2==0])\n"
   ]
  },
  {
   "cell_type": "markdown",
   "metadata": {},
   "source": [
    "**Rock-Scissor-Paper**"
   ]
  },
  {
   "cell_type": "code",
   "execution_count": 3,
   "metadata": {},
   "outputs": [
    {
     "name": "stdout",
     "output_type": "stream",
     "text": [
      "This is Rock Scissor Paper game\n",
      "User will enter move Rock as R ,Scissor as S and Paper as P\n",
      "User 1 Enter your moveR\n",
      "User 2 Enter your moveS\n",
      "U1 wins\n"
     ]
    }
   ],
   "source": [
    "def game(U1,U2):\n",
    "    while True:\n",
    "        if U1== \"R\" and U2==\"R\":\n",
    "            print(\"Draw\")\n",
    "            break\n",
    "        elif U1== \"R\" and U2==\"S\":\n",
    "            print(\"U1 wins\")\n",
    "            break\n",
    "        elif U1== \"R\" and U2==\"P\":\n",
    "            print(\"U2 wins\")\n",
    "            break\n",
    "        elif U1==\"S\"and U2==\"R\":\n",
    "            print(\"U2 wins\")\n",
    "            break\n",
    "        elif U1==\"S\"and U2==\"S\":\n",
    "            print(\"Draw\")\n",
    "            break\n",
    "        elif U1==\"S\"and U2==\"P\":\n",
    "            print(\"U1 wins\")\n",
    "            break\n",
    "        elif U1== \"P\" and U2==\"R\":\n",
    "            print(\"U1 wins\")\n",
    "            break\n",
    "        elif U1==\"P\" and U2==\"S\":\n",
    "            print(\"U2 wins\")\n",
    "            break\n",
    "        elif U1== \"P\" and U2==\"P\":\n",
    "            print(\"Draw\")\n",
    "            break\n",
    "\n",
    "print(\"This is Rock Scissor Paper game\")\n",
    "print(\"User will enter move Rock as R ,Scissor as S and Paper as P\")\n",
    "U1= input(\"User 1 Enter your move\")\n",
    "U2= input(\"User 2 Enter your move\")\n",
    "game(U1,U2)\n",
    "       \n",
    "        "
   ]
  },
  {
   "cell_type": "code",
   "execution_count": null,
   "metadata": {},
   "outputs": [],
   "source": []
  }
 ],
 "metadata": {
  "kernelspec": {
   "display_name": "Python 3",
   "language": "python",
   "name": "python3"
  },
  "language_info": {
   "codemirror_mode": {
    "name": "ipython",
    "version": 3
   },
   "file_extension": ".py",
   "mimetype": "text/x-python",
   "name": "python",
   "nbconvert_exporter": "python",
   "pygments_lexer": "ipython3",
   "version": "3.6.5"
  }
 },
 "nbformat": 4,
 "nbformat_minor": 2
}

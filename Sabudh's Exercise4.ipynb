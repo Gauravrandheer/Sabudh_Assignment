{
 "cells": [
  {
   "cell_type": "markdown",
   "metadata": {},
   "source": [
    "**List_Compression**"
   ]
  },
  {
   "cell_type": "code",
   "execution_count": 1,
   "metadata": {},
   "outputs": [
    {
     "name": "stdout",
     "output_type": "stream",
     "text": [
      "[4, 16, 36, 64, 100]\n"
     ]
    }
   ],
   "source": [
    "a=[1, 4, 9, 16, 25, 36, 49, 64, 81, 100]\n",
    "l= []\n",
    "for i in range(0,len(a)):\n",
    "    if a[i]%2==0:\n",
    "        l.append(a[i])\n",
    "print(l)\n",
    "        "
   ]
  },
  {
   "cell_type": "code",
   "execution_count": 2,
   "metadata": {},
   "outputs": [
    {
     "name": "stdout",
     "output_type": "stream",
     "text": [
      "[4, 16, 36, 64, 100]\n"
     ]
    }
   ],
   "source": [
    "a=[1, 4, 9, 16, 25, 36, 49, 64, 81, 100]\n",
    "print([i for i in a if i%2==0])\n"
   ]
  },
  {
   "cell_type": "markdown",
   "metadata": {},
   "source": [
    "**Rock-Scissor-Paper**"
   ]
  },
  {
   "cell_type": "code",
   "execution_count": 1,
   "metadata": {},
   "outputs": [
    {
     "name": "stdout",
     "output_type": "stream",
     "text": [
      "This is Rock Scissor Paper game\n",
      "User will enter move Rock as R ,Scissor as S and Paper as P\n",
      "User entermoveR\n",
      "User enter moveS\n",
      "U1 wins\n",
      "Want to play again Type y for play n for No\n",
      "Y/sy\n",
      "User entermoveR\n",
      "User enter moveP\n",
      "U2 wins\n",
      "Want to play again Type y for play n for No\n",
      "Y/ss\n"
     ]
    }
   ],
   "source": [
    "print(\"This is Rock Scissor Paper game\")\n",
    "print(\"User will enter move Rock as R ,Scissor as S and Paper as P\")\n",
    "def gamerpS():\n",
    "    U1 = input(\"User entermove\")\n",
    "    U2 = input(\"User enter move\")\n",
    "    while True:\n",
    "        if U1== \"R\" and U2==\"R\":\n",
    "            print(\"Draw\")\n",
    "            print(\"Want to play again Type y for play n for No\")\n",
    "            z=input(\"Y/s\")\n",
    "            if z==\"y\":\n",
    "                gamerpS()\n",
    "            break\n",
    "        elif U1== \"R\" and U2==\"S\":\n",
    "            print(\"U1 wins\")\n",
    "            print(\"Want to play again Type y for play n for No\")\n",
    "            z=input(\"Y/s\")\n",
    "            if z==\"y\":\n",
    "                gamerpS()\n",
    "            break\n",
    "        elif U1== \"R\" and U2==\"P\":\n",
    "            print(\"U2 wins\")\n",
    "            print(\"Want to play again Type y for play n for No\")\n",
    "            z=input(\"Y/s\")\n",
    "            if z==\"y\":\n",
    "                gamerpS()\n",
    "            break\n",
    "        elif U1==\"S\"and U2==\"R\":\n",
    "            print(\"U2 wins\")\n",
    "            print(\"Want to play again Type y for play n for No\")\n",
    "            z=input(\"Y/s\")\n",
    "            if z==\"y\":\n",
    "                gamerpS()\n",
    "            break\n",
    "        elif U1==\"S\"and U2==\"S\":\n",
    "            print(\"Draw\")\n",
    "            print(\"Want to play again Type y for play n for No\")\n",
    "            z=input(\"Y/s\")\n",
    "            if z==\"y\":\n",
    "                gamerpS()\n",
    "            break\n",
    "        elif U1==\"S\"and U2==\"P\":\n",
    "            print(\"U1 wins\")\n",
    "            print(\"Want to play again Type y for play n for No\")\n",
    "            z=input(\"Y/s\")\n",
    "            if z==\"y\":\n",
    "                gamerpS()\n",
    "            break\n",
    "        elif U1== \"P\" and U2==\"R\":\n",
    "            print(\"U1 wins\")\n",
    "            print(\"Want to play again Type y for play n for No\")\n",
    "            z=input(\"Y/s\")\n",
    "            if z==\"y\":\n",
    "                gamerpS()\n",
    "            break\n",
    "        elif U1==\"P\" and U2==\"S\":\n",
    "            print(\"U2 wins\")\n",
    "            print(\"Want to play again Type y for play n for No\")\n",
    "            z=input(\"Y/s\")\n",
    "            if z==\"y\":\n",
    "                gamerpS()\n",
    "            break\n",
    "        elif U1== \"P\" and U2==\"P\":\n",
    "            print(\"Draw\")\n",
    "            print(\"Want to play again Type y for play n for No\")\n",
    "            z=input(\"Y/s\")\n",
    "            if z==\"y\":\n",
    "                gamerpS()\n",
    "            break\n",
    "\n",
    "\n",
    "gamerpS()\n",
    "\n",
    "        "
   ]
  },
  {
   "cell_type": "code",
   "execution_count": null,
   "metadata": {},
   "outputs": [],
   "source": []
  }
 ],
 "metadata": {
  "kernelspec": {
   "display_name": "Python 3",
   "language": "python",
   "name": "python3"
  },
  "language_info": {
   "codemirror_mode": {
    "name": "ipython",
    "version": 3
   },
   "file_extension": ".py",
   "mimetype": "text/x-python",
   "name": "python",
   "nbconvert_exporter": "python",
   "pygments_lexer": "ipython3",
   "version": "3.6.5"
  }
 },
 "nbformat": 4,
 "nbformat_minor": 2
}

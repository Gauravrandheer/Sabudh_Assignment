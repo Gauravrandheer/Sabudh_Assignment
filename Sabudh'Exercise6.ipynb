{
 "cells": [
  {
   "cell_type": "markdown",
   "metadata": {},
   "source": [
    "**Cows and bull problem**"
   ]
  },
  {
   "cell_type": "code",
   "execution_count": 1,
   "metadata": {},
   "outputs": [
    {
     "name": "stdout",
     "output_type": "stream",
     "text": [
      "8104\n",
      "enter the number8888\n",
      "Cow1Bulls0\n",
      "enter the number again4444\n",
      "Cow1Bulls0\n",
      "enter the number again8140\n",
      "Cow2Bulls2\n",
      "enter the number again8104\n",
      "Cow4Bulls0\n"
     ]
    }
   ],
   "source": [
    "import random\n",
    "\n",
    "com =random.randint(1000,9999)\n",
    "l = str(com)\n",
    "print(l)\n",
    "m= input(\"enter the number\")\n",
    "#l=[x for x in str(com)]\n",
    "#m=[x for x in str(user)]\n",
    "cow=0\n",
    "count=0\n",
    "bull= 0\n",
    "while True:\n",
    "    cow=0\n",
    "    bull=0\n",
    "    for i in range(0,4):\n",
    "        if m[i]==l[i]:\n",
    "            cow+=1\n",
    "        elif (m[i] in l)and (l[i]!=m[i])and(l.count(m[i])==m.count(m[i])):\n",
    "            bull+= 1\n",
    "    if cow==4:\n",
    "        print(\"Cow\"+str(cow)+\"Bulls\"+str(bull)) \n",
    "        break\n",
    "    else:\n",
    "        print(\"Cow\"+str(cow)+\"Bulls\"+str(bull))\n",
    "        m = input(\"enter the number again\")\n",
    "        \n",
    "            \n"
   ]
  },
  {
   "cell_type": "markdown",
   "metadata": {},
   "source": [
    "**OOP**"
   ]
  },
  {
   "cell_type": "code",
   "execution_count": 13,
   "metadata": {},
   "outputs": [
    {
     "name": "stdout",
     "output_type": "stream",
     "text": [
      "Gaurav\n",
      "Shrivastava\n",
      "<__main__.Ta object at 0x00000082D8FF61D0>\n"
     ]
    }
   ],
   "source": [
    "class Mitxstaff(object):    \n",
    "    def __init__(self,firstName,lastName):\n",
    "        self.firstName = firstName\n",
    "        self.lastName= lastName\n",
    "        print(self.firstName)\n",
    "        print(self.lastName)\n",
    "        \n",
    "class Ta(Mitxstaff):\n",
    "    \n",
    "    def __init__(self,firstName,lastName,awesome):\n",
    "        self.awesome= awesome\n",
    "        Mitxstaff.__init__(self,firstName,lastName)\n",
    "print(Ta(\"Gaurav\",\"Shrivastava\",100))\n",
    "\n",
    "        \n",
    "        "
   ]
  },
  {
   "cell_type": "code",
   "execution_count": 14,
   "metadata": {},
   "outputs": [
    {
     "name": "stdout",
     "output_type": "stream",
     "text": [
      "Gaurav\n",
      "Shrivastava\n"
     ]
    }
   ],
   "source": [
    "t= Ta(\"Gaurav\",\"Shrivastava\",100)"
   ]
  },
  {
   "cell_type": "code",
   "execution_count": 15,
   "metadata": {},
   "outputs": [
    {
     "data": {
      "text/plain": [
       "'Shrivastava'"
      ]
     },
     "execution_count": 15,
     "metadata": {},
     "output_type": "execute_result"
    }
   ],
   "source": [
    "t.lastName"
   ]
  },
  {
   "cell_type": "code",
   "execution_count": 16,
   "metadata": {},
   "outputs": [
    {
     "data": {
      "text/plain": [
       "100"
      ]
     },
     "execution_count": 16,
     "metadata": {},
     "output_type": "execute_result"
    }
   ],
   "source": [
    "t.awesome\n"
   ]
  },
  {
   "cell_type": "code",
   "execution_count": null,
   "metadata": {},
   "outputs": [],
   "source": []
  }
 ],
 "metadata": {
  "language_info": {
   "codemirror_mode": {
    "name": "ipython",
    "version": 3
   },
   "file_extension": ".py",
   "mimetype": "text/x-python",
   "name": "python",
   "nbconvert_exporter": "python",
   "pygments_lexer": "ipython3",
   "version": "3.6.5"
  }
 },
 "nbformat": 4,
 "nbformat_minor": 2
}

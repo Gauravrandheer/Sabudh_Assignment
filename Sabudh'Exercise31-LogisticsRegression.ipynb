{
 "cells": [
  {
   "cell_type": "code",
   "execution_count": 40,
   "metadata": {},
   "outputs": [
    {
     "data": {
      "text/html": [
       "<div>\n",
       "<style scoped>\n",
       "    .dataframe tbody tr th:only-of-type {\n",
       "        vertical-align: middle;\n",
       "    }\n",
       "\n",
       "    .dataframe tbody tr th {\n",
       "        vertical-align: top;\n",
       "    }\n",
       "\n",
       "    .dataframe thead th {\n",
       "        text-align: right;\n",
       "    }\n",
       "</style>\n",
       "<table border=\"1\" class=\"dataframe\">\n",
       "  <thead>\n",
       "    <tr style=\"text-align: right;\">\n",
       "      <th></th>\n",
       "      <th>Unnamed: 0</th>\n",
       "      <th>X</th>\n",
       "      <th>Y</th>\n",
       "      <th>label</th>\n",
       "    </tr>\n",
       "  </thead>\n",
       "  <tbody>\n",
       "    <tr>\n",
       "      <th>0</th>\n",
       "      <td>0</td>\n",
       "      <td>0.000000</td>\n",
       "      <td>4.194447</td>\n",
       "      <td>1</td>\n",
       "    </tr>\n",
       "    <tr>\n",
       "      <th>1</th>\n",
       "      <td>1</td>\n",
       "      <td>0.050251</td>\n",
       "      <td>4.885090</td>\n",
       "      <td>1</td>\n",
       "    </tr>\n",
       "    <tr>\n",
       "      <th>2</th>\n",
       "      <td>2</td>\n",
       "      <td>0.100503</td>\n",
       "      <td>3.962500</td>\n",
       "      <td>1</td>\n",
       "    </tr>\n",
       "    <tr>\n",
       "      <th>3</th>\n",
       "      <td>3</td>\n",
       "      <td>0.150754</td>\n",
       "      <td>4.214098</td>\n",
       "      <td>1</td>\n",
       "    </tr>\n",
       "    <tr>\n",
       "      <th>4</th>\n",
       "      <td>4</td>\n",
       "      <td>0.201005</td>\n",
       "      <td>5.548388</td>\n",
       "      <td>1</td>\n",
       "    </tr>\n",
       "  </tbody>\n",
       "</table>\n",
       "</div>"
      ],
      "text/plain": [
       "   Unnamed: 0         X         Y  label\n",
       "0           0  0.000000  4.194447      1\n",
       "1           1  0.050251  4.885090      1\n",
       "2           2  0.100503  3.962500      1\n",
       "3           3  0.150754  4.214098      1\n",
       "4           4  0.201005  5.548388      1"
      ]
     },
     "execution_count": 40,
     "metadata": {},
     "output_type": "execute_result"
    }
   ],
   "source": [
    "import numpy as np\n",
    "import pandas as pd\n",
    "from sklearn.model_selection import train_test_split\n",
    "import matplotlib.pyplot as plt\n",
    "%matplotlib inline\n",
    "\n",
    "data = pd.read_csv(r\"logistic_reg_data.csv\")\n",
    "data.head()"
   ]
  },
  {
   "cell_type": "code",
   "execution_count": 51,
   "metadata": {},
   "outputs": [],
   "source": [
    "X = data[[\"X\",\"Y\"]]\n",
    "y= data[\"label\"]\n"
   ]
  },
  {
   "cell_type": "code",
   "execution_count": 143,
   "metadata": {},
   "outputs": [],
   "source": [
    "X_train, X_test, y_train , y_test = train_test_split(X , y , test_size=0.25,stratify=y)"
   ]
  },
  {
   "cell_type": "code",
   "execution_count": 144,
   "metadata": {},
   "outputs": [],
   "source": [
    "def score(f,w):\n",
    "    scores = np.dot(f,w)\n",
    "    return scores"
   ]
  },
  {
   "cell_type": "code",
   "execution_count": 145,
   "metadata": {},
   "outputs": [],
   "source": [
    "def sigmoid(score):\n",
    "    sig = (1 / (1 + np.exp(-score)))\n",
    "    return sig"
   ]
  },
  {
   "cell_type": "code",
   "execution_count": 146,
   "metadata": {},
   "outputs": [],
   "source": [
    "def cost_function(f, t, w):\n",
    "    scores = score(f,w)\n",
    "    cost = np.sum( -target*scores + np.log(1 + np.exp(scores)) )\n",
    "    return cost"
   ]
  },
  {
   "cell_type": "code",
   "execution_count": 147,
   "metadata": {},
   "outputs": [],
   "source": [
    "def add_inter(f,add_intercept):\n",
    "    add_intercept=\"False\"\n",
    "    if add_intercept:\n",
    "        intercept = np.ones((f.shape[0],1))\n",
    "        features = np.hstack((intercept, f))\n",
    "    return intercept,features   \n",
    "    \n",
    "    "
   ]
  },
  {
   "cell_type": "code",
   "execution_count": 165,
   "metadata": {},
   "outputs": [],
   "source": [
    "def Solve_regression(f, t, numSteps,lr,add_intercept):\n",
    "    add_inter(f,add_intercept)\n",
    "    ypred=[]\n",
    "    weights=np.zeros(f.shape[1])\n",
    "    for i in range(numSteps):\n",
    "        scores = score(f,weights)\n",
    "        pred = sigmoid(scores)\n",
    "        gradient = score(f.T,pred-t)\n",
    "        weights = weights- ((lr/f.shape[0]) * gradient)\n",
    "    #weights = num_Steps(f,t,weights,lr,numSteps)  \n",
    "    score_final = score(f,weights)\n",
    "    score_final_sigmoid=sigmoid(score_final)\n",
    "    ypred=np.round(score_final_sigmoid)\n",
    "    \n",
    "    return ypred"
   ]
  },
  {
   "cell_type": "code",
   "execution_count": 166,
   "metadata": {},
   "outputs": [
    {
     "data": {
      "text/plain": [
       "'\"def num_Steps(f,t,weights,lr,numSteps):\\n    for i in range(numSteps):\\n        scores = score(f,weights)\\n        pred = sigmoid(scores)\\n        gradient = score(f.T,pred-t)\\n        we = weights- ((lr/f.shape[0]) * gradient)\\n    return we'"
      ]
     },
     "execution_count": 166,
     "metadata": {},
     "output_type": "execute_result"
    }
   ],
   "source": [
    "\"\"\"\"def num_Steps(f,t,weights,lr,numSteps):\n",
    "    for i in range(numSteps):\n",
    "        scores = score(f,weights)\n",
    "        pred = sigmoid(scores)\n",
    "        gradient = score(f.T,pred-t)\n",
    "        we = weights- ((lr/f.shape[0]) * gradient)\n",
    "    return we\"\"\""
   ]
  },
  {
   "cell_type": "code",
   "execution_count": 167,
   "metadata": {},
   "outputs": [
    {
     "name": "stdout",
     "output_type": "stream",
     "text": [
      "0.92\n"
     ]
    }
   ],
   "source": [
    "ypred =Solve_regression(X_test,y_test,10000,0.01,add_intercept=\"True\")\n",
    "print(np.sum((ypred-y_test)==0)/len(ypred))"
   ]
  },
  {
   "cell_type": "code",
   "execution_count": null,
   "metadata": {},
   "outputs": [],
   "source": []
  }
 ],
 "metadata": {
  "kernelspec": {
   "display_name": "Python 3",
   "language": "python",
   "name": "python3"
  },
  "language_info": {
   "codemirror_mode": {
    "name": "ipython",
    "version": 3
   },
   "file_extension": ".py",
   "mimetype": "text/x-python",
   "name": "python",
   "nbconvert_exporter": "python",
   "pygments_lexer": "ipython3",
   "version": "3.6.5"
  }
 },
 "nbformat": 4,
 "nbformat_minor": 1
}

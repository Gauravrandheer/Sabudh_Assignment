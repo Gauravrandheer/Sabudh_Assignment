{
 "cells": [
  {
   "cell_type": "code",
   "execution_count": null,
   "metadata": {},
   "outputs": [],
   "source": [
    "#Main file\n",
    "import pandas as pd\n",
    "import json\n",
    "import post #newget#,Delete,Put,\n",
    "from flask import Flask\n",
    "from post import index_post\n",
    "from new import index_new\n",
    "from Delete import index_delete\n",
    "from Put import index_Put\n",
    "\n",
    "app=Flask(__name__)\n",
    "app.register_blueprint(index_post)\n",
    "app.register_blueprint(index_new)\n",
    "app.register_blueprint(index_delete)\n",
    "app.register_blueprint(index_Put)\n",
    "@app.route(\"/\",methods=['GET']) # 'http::/www.google.com/'\n",
    "def hom():\n",
    "    df=pd.read_csv(\"out.csv\")\n",
    "    new_dict=df.to_dict(\"index\")\n",
    "    abc= list(new_dict.values())\n",
    "    return json.dumps(abc)\n",
    "\n",
    "\n",
    "app.run(port=5000)"
   ]
  },
  {
   "cell_type": "code",
   "execution_count": null,
   "metadata": {},
   "outputs": [],
   "source": [
    "#newget file\n",
    "import pandas as pd\n",
    "imp)ort json\n",
    "from flask import Blueprint, render_template\n",
    "\n",
    "\n",
    "index_new = Blueprint('new',__name__)\n",
    "@index_new.route('/<dell>',methods=[\"GET\"])\n",
    "def dellll(dell):\n",
    "    df = pd.read_csv(\"out.csv\")\n",
    "    lm = df[df['index'] == int(dell)]\n",
    "    print(lm)\n",
    "    new_dict = lm.to_dict(\"index\")\n",
    "    abc = list(new_dict.values())\n",
    "    return json.dumps(abc\n"
   ]
  },
  {
   "cell_type": "code",
   "execution_count": null,
   "metadata": {},
   "outputs": [],
   "source": [
    "#post file\n",
    "import pandas as pd\n",
    "from flask import Flask,request,jsonify\n",
    "from flask import Blueprint, render_template\n",
    "\n",
    "index_post = Blueprint('post',__name__)\n",
    "@index_post.route('/',methods=[\"POST\"])\n",
    "def insert():\n",
    "    data=request.get_json()\n",
    "    df=pd.read_csv('out.csv')\n",
    "    list_of_df=list(df.to_dict('index').values())\n",
    "    created_data={}\n",
    "    created_data['index'] = (list_of_df[-1][\"index\"]+1)\n",
    "    combined_data={**created_data,**data}\n",
    "    df=df.append(combined_data,ignore_index=True)\n",
    "    print(df)\n",
    "    df.to_csv(r'out.csv',index=None,header=True)\n",
    "    return jsonify({\"index\":created_data[\"index\"]})"
   ]
  },
  {
   "cell_type": "code",
   "execution_count": null,
   "metadata": {},
   "outputs": [],
   "source": [
    "#delete file\n",
    "import pandas as pd\n",
    "import json\n",
    "from flask import Flask,request,jsonify\n",
    "from flask import Blueprint\n",
    "index_delete = Blueprint('Delete',__name__)\n",
    "@index_delete.route('/',methods=[\"DELETE\"])\n",
    "def delete():\n",
    "    data=request.get_json()\n",
    "    df=pd.read_csv(\"out.csv\")\n",
    "    df= df[df[\"index\"]!= data['index']]\n",
    "    df.to_csv(r'out.csv',index=None,header=True)\n",
    "    return jsonify({\"index\":data[\"index\"]})\n"
   ]
  },
  {
   "cell_type": "code",
   "execution_count": null,
   "metadata": {},
   "outputs": [],
   "source": [
    "#put file\n",
    "import pandas as pd\n",
    "from flask import request,jsonify\n",
    "from flask import Blueprint, render_template\n",
    "\n",
    "index_Put = Blueprint('Put',__name__)\n",
    "@index_Put.route('/',methods=[\"PUT\"])\n",
    "def update():\n",
    "    data=request.get_json()\n",
    "    df=pd.read_csv(\"out.csv\")\n",
    "    df.loc[df[\"index\"] == data[\"index\"], ['name','roll',\"class\"]] = data['name'],data['roll'],data[\"class\"]\n",
    "    df.to_csv(r'out.csv',index=None,header=True)\n",
    "    return jsonify({\"index\":data[\"index\"]})"
   ]
  }
 ],
 "metadata": {
  "kernelspec": {
   "display_name": "Python 3",
   "language": "python",
   "name": "python3"
  },
  "language_info": {
   "codemirror_mode": {
    "name": "ipython",
    "version": 3
   },
   "file_extension": ".py",
   "mimetype": "text/x-python",
   "name": "python",
   "nbconvert_exporter": "python",
   "pygments_lexer": "ipython3",
   "version": "3.6.5"
  }
 },
 "nbformat": 4,
 "nbformat_minor": 1
}

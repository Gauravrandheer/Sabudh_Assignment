{
 "cells": [
  {
   "cell_type": "markdown",
   "metadata": {},
   "source": [
    "**Character input problem**"
   ]
  },
  {
   "cell_type": "code",
   "execution_count": 1,
   "metadata": {},
   "outputs": [
    {
     "name": "stdout",
     "output_type": "stream",
     "text": [
      "Enter the nameGaurav\n",
      "enter the age21\n",
      "Gaurav will turn 100 after 79 Years\n"
     ]
    }
   ],
   "source": [
    "Name=  input(\"Enter the name\")\n",
    "Age =  input(\"enter the age\")\n",
    "Age = int(Age)\n",
    "cal = 100-Age\n",
    "print(str(Name)+ \" will turn 100 after \" + str(cal) + \" Years\")\n",
    "\n",
    "        "
   ]
  },
  {
   "cell_type": "markdown",
   "metadata": {},
   "source": [
    "**Even/odd Problem**"
   ]
  },
  {
   "cell_type": "code",
   "execution_count": 2,
   "metadata": {},
   "outputs": [
    {
     "name": "stdout",
     "output_type": "stream",
     "text": [
      "input the number21\n",
      "odd\n"
     ]
    }
   ],
   "source": [
    "Number = input(\"input the number\")\n",
    "Num = int(Number)\n",
    "\n",
    "if Num%2==0:\n",
    "    print(\"Even\")\n",
    "print(\"odd\")"
   ]
  }
 ],
 "metadata": {
  "kernelspec": {
   "display_name": "Python 3",
   "language": "python",
   "name": "python3"
  },
  "language_info": {
   "codemirror_mode": {
    "name": "ipython",
    "version": 3
   },
   "file_extension": ".py",
   "mimetype": "text/x-python",
   "name": "python",
   "nbconvert_exporter": "python",
   "pygments_lexer": "ipython3",
   "version": "3.6.5"
  }
 },
 "nbformat": 4,
 "nbformat_minor": 2
}

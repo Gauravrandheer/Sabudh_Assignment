{
 "cells": [
  {
   "cell_type": "markdown",
   "metadata": {},
   "source": [
    "** prime_Number**"
   ]
  },
  {
   "cell_type": "code",
   "execution_count": 230,
   "metadata": {},
   "outputs": [
    {
     "name": "stdout",
     "output_type": "stream",
     "text": [
      "2\n",
      "3\n",
      "5\n",
      "7\n",
      "9\n",
      "12\n",
      "14\n",
      "15\n",
      "18\n",
      "20\n",
      "21\n",
      "24\n",
      "25\n",
      "27\n",
      "30\n",
      "32\n",
      "33\n",
      "35\n",
      "38\n",
      "39\n",
      "42\n",
      "44\n",
      "45\n",
      "48\n",
      "49\n",
      "51\n",
      "54\n",
      "55\n",
      "57\n",
      "60\n",
      "62\n",
      "63\n",
      "65\n",
      "68\n",
      "69\n",
      "72\n",
      "74\n",
      "75\n",
      "77\n",
      "80\n",
      "81\n",
      "84\n",
      "85\n",
      "87\n",
      "90\n",
      "91\n",
      "93\n",
      "95\n",
      "98\n",
      "99\n"
     ]
    }
   ],
   "source": [
    "count=0\n",
    "for i in range(2,100):\n",
    "    for j in range(2,int(100**.5)):#root n to reduce complexity\n",
    "        if i%j==0:\n",
    "            count+=1\n",
    "            break\n",
    "        else:\n",
    "            count=0\n",
    "    if count==1:\n",
    "        print(i)"
   ]
  },
  {
   "cell_type": "code",
   "execution_count": null,
   "metadata": {},
   "outputs": [],
   "source": []
  }
 ],
 "metadata": {
  "kernelspec": {
   "display_name": "Python 3",
   "language": "python",
   "name": "python3"
  },
  "language_info": {
   "codemirror_mode": {
    "name": "ipython",
    "version": 3
   },
   "file_extension": ".py",
   "mimetype": "text/x-python",
   "name": "python",
   "nbconvert_exporter": "python",
   "pygments_lexer": "ipython3",
   "version": "3.6.5"
  }
 },
 "nbformat": 4,
 "nbformat_minor": 2
}

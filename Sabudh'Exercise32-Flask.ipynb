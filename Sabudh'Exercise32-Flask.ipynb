{
 "cells": [
  {
   "cell_type": "code",
   "execution_count": null,
   "metadata": {},
   "outputs": [],
   "source": [
    "from flask import Flask,request,jsonify\n",
    "import json\n",
    "import pandas as pd\n",
    "app = Flask(__name__)\n",
    "\n",
    "@app.route(\"/\", methods=[\"Get\"])\n",
    "def hom():\n",
    "    data = pd.read_csv(\"out.csv\")\n",
    "    print(data)\n",
    "    dat = list(data.to_dict(\"index\").values())\n",
    "    return json.dumps(dat)\n",
    "\n",
    "@app.route(\"/Gaurav\",methods=[\"POST\"])\n",
    "\n",
    "def hom1():\n",
    "    data = pd.read_csv(\"out.csv\")\n",
    "    dat = data.to_dict(\"index\").values()\n",
    "    data1 = request.get_json()\n",
    "    return json.dumps(dat)\n",
    "\n",
    "app.run(port=5000)"
   ]
  }
 ],
 "metadata": {
  "kernelspec": {
   "display_name": "Python 3",
   "language": "python",
   "name": "python3"
  },
  "language_info": {
   "codemirror_mode": {
    "name": "ipython",
    "version": 3
   },
   "file_extension": ".py",
   "mimetype": "text/x-python",
   "name": "python",
   "nbconvert_exporter": "python",
   "pygments_lexer": "ipython3",
   "version": "3.6.5"
  }
 },
 "nbformat": 4,
 "nbformat_minor": 1
}

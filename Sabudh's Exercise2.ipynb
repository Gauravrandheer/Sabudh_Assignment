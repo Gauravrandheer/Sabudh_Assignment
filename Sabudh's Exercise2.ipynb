{
 "cells": [
  {
   "cell_type": "markdown",
   "metadata": {},
   "source": [
    "**List less than 10**"
   ]
  },
  {
   "cell_type": "code",
   "execution_count": 38,
   "metadata": {},
   "outputs": [
    {
     "name": "stdout",
     "output_type": "stream",
     "text": [
      "1\n",
      "1\n",
      "2\n",
      "3\n",
      "Count is 4\n",
      "[1, 1, 2, 3]\n"
     ]
    }
   ],
   "source": [
    "a = [1, 1, 2, 3, 5, 8, 13, 21, 34, 55, 89]\n",
    "f= 0\n",
    "l= []\n",
    "for i in a:\n",
    "    if i<5:\n",
    "        f= f+1\n",
    "        print(i)\n",
    "        l.append(i)\n",
    "print(\"Count is \" + str(f))\n",
    "print(l)\n",
    "    \n",
    "    \n",
    "\n",
    "       \n",
    "    \n",
    "      "
   ]
  },
  {
   "cell_type": "markdown",
   "metadata": {},
   "source": [
    "**Divisor**"
   ]
  },
  {
   "cell_type": "code",
   "execution_count": 49,
   "metadata": {},
   "outputs": [
    {
     "name": "stdout",
     "output_type": "stream",
     "text": [
      "Enter the number100\n",
      "Divisor is 1\n",
      "Divisor is 2\n",
      "Divisor is 4\n",
      "Divisor is 5\n",
      "Divisor is 10\n",
      "Divisor is 20\n",
      "Divisor is 25\n",
      "Divisor is 50\n"
     ]
    }
   ],
   "source": [
    "def Divisor(Number):\n",
    "    for i in range(1,int(Number/2)+1):\n",
    "        if Number%i==0:\n",
    "            print(\"Divisor is \"+ str(i))\n",
    "Number = int(input(\"Enter the number\"))\n",
    "Divisor(Number)"
   ]
  },
  {
   "cell_type": "code",
   "execution_count": null,
   "metadata": {},
   "outputs": [],
   "source": []
  }
 ],
 "metadata": {
  "kernelspec": {
   "display_name": "Python 3",
   "language": "python",
   "name": "python3"
  },
  "language_info": {
   "codemirror_mode": {
    "name": "ipython",
    "version": 3
   },
   "file_extension": ".py",
   "mimetype": "text/x-python",
   "name": "python",
   "nbconvert_exporter": "python",
   "pygments_lexer": "ipython3",
   "version": "3.6.5"
  }
 },
 "nbformat": 4,
 "nbformat_minor": 2
}

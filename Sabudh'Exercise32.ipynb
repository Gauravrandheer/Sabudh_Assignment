{
 "cells": [
  {
   "cell_type": "code",
   "execution_count": 1,
   "metadata": {},
   "outputs": [],
   "source": [
    "import numpy as np\n",
    "num_samples=10000\n",
    "num_attrs=4\n",
    "data = np.random.normal(size=(num_samples,num_attrs))\n",
    "data = data.round(3)"
   ]
  },
  {
   "cell_type": "code",
   "execution_count": 10,
   "metadata": {},
   "outputs": [
    {
     "data": {
      "text/plain": [
       "array([[ 1.339,  0.987,  0.616, -2.813],\n",
       "       [ 0.748,  1.285, -0.753,  0.23 ],\n",
       "       [ 1.667,  0.149,  1.171,  1.809],\n",
       "       ...,\n",
       "       [-0.172,  0.768, -0.279,  0.495],\n",
       "       [ 1.076,  0.182,  1.828, -0.884],\n",
       "       [ 0.957,  0.095, -0.308, -1.172]])"
      ]
     },
     "execution_count": 10,
     "metadata": {},
     "output_type": "execute_result"
    }
   ],
   "source": [
    "data"
   ]
  },
  {
   "cell_type": "code",
   "execution_count": null,
   "metadata": {},
   "outputs": [],
   "source": []
  }
 ],
 "metadata": {
  "kernelspec": {
   "display_name": "Python 3",
   "language": "python",
   "name": "python3"
  },
  "language_info": {
   "codemirror_mode": {
    "name": "ipython",
    "version": 3
   },
   "file_extension": ".py",
   "mimetype": "text/x-python",
   "name": "python",
   "nbconvert_exporter": "python",
   "pygments_lexer": "ipython3",
   "version": "3.6.5"
  }
 },
 "nbformat": 4,
 "nbformat_minor": 1
}

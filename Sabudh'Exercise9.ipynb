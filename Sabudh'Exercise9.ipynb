{
 "cells": [
  {
   "cell_type": "markdown",
   "metadata": {},
   "source": [
    "**Decoraters**"
   ]
  },
  {
   "cell_type": "code",
   "execution_count": 3,
   "metadata": {},
   "outputs": [],
   "source": [
    "def Hello(original_func):\n",
    "    \n",
    "    def wrap_function():\n",
    "        print(\"this is the first line of hello\")\n",
    "        original_func()\n",
    "        print(\"This is the third line of hello\")\n",
    "    return wrap_function()  \n",
    "        \n",
    "        "
   ]
  },
  {
   "cell_type": "code",
   "execution_count": 5,
   "metadata": {},
   "outputs": [
    {
     "name": "stdout",
     "output_type": "stream",
     "text": [
      "this is the first line of hello\n",
      "this is the first line of my function\n",
      "This is the third line of hello\n"
     ]
    }
   ],
   "source": [
    "@Hello\n",
    "def my():\n",
    "    print(\"this is the first line of my function\")\n",
    "    \n",
    "    "
   ]
  }
 ],
 "metadata": {
  "language_info": {
   "codemirror_mode": {
    "name": "ipython",
    "version": 3
   },
   "file_extension": ".py",
   "mimetype": "text/x-python",
   "name": "python",
   "nbconvert_exporter": "python",
   "pygments_lexer": "ipython3",
   "version": "3.6.5"
  }
 },
 "nbformat": 4,
 "nbformat_minor": 2
}

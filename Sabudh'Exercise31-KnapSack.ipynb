{
 "cells": [
  {
   "cell_type": "code",
   "execution_count": 219,
   "metadata": {},
   "outputs": [],
   "source": [
    "dic = {10:60,20:100,30:120}\n",
    "dis = {60:10,100:20,120:30}\n",
    "values = [60,100,120]\n",
    "weights = [10,20,30]\n",
    "W = 50\n",
    "\n",
    "#x = np.sum(weights)\n"
   ]
  },
  {
   "cell_type": "code",
   "execution_count": 220,
   "metadata": {},
   "outputs": [
    {
     "name": "stdout",
     "output_type": "stream",
     "text": [
      "220\n"
     ]
    }
   ],
   "source": [
    "import numpy as np\n",
    "k = np.array(values)\n",
    "k.argmax()\n",
    "h = np.sort(values)\n",
    "count = 0\n",
    "while count<=50:\n",
    "    k = dis[h[-1]]\n",
    "    if k == 50:\n",
    "        print(h[-1])\n",
    "        break\n",
    "    count = count+k\n",
    "    k1 = dis[h[-2]]\n",
    "    if k1 == 50:\n",
    "        print(h[-2])\n",
    "        break\n",
    "    count = count +k1\n",
    "    if count <= 50:\n",
    "        print(h[-1]+h[-2])\n",
    "    k2 = dis[h[-3]]\n",
    "    if k2 == 50 :\n",
    "        print(h[-3])\n",
    "        break\n",
    "    count = count+k2\n",
    "    if count <=50:\n",
    "        print(h[-1]+h[-2]+h[-3])\n",
    "        break\n",
    "        "
   ]
  },
  {
   "cell_type": "code",
   "execution_count": null,
   "metadata": {},
   "outputs": [],
   "source": []
  }
 ],
 "metadata": {
  "kernelspec": {
   "display_name": "Python 3",
   "language": "python",
   "name": "python3"
  },
  "language_info": {
   "codemirror_mode": {
    "name": "ipython",
    "version": 3
   },
   "file_extension": ".py",
   "mimetype": "text/x-python",
   "name": "python",
   "nbconvert_exporter": "python",
   "pygments_lexer": "ipython3",
   "version": "3.6.5"
  }
 },
 "nbformat": 4,
 "nbformat_minor": 1
}
